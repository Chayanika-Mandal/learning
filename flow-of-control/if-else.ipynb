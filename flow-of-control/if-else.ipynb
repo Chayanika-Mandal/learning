{
 "metadata": {
  "language_info": {
   "codemirror_mode": {
    "name": "ipython",
    "version": 3
   },
   "file_extension": ".py",
   "mimetype": "text/x-python",
   "name": "python",
   "nbconvert_exporter": "python",
   "pygments_lexer": "ipython3",
   "version": "3.8.6"
  },
  "orig_nbformat": 2,
  "kernelspec": {
   "name": "python386jvsc74a57bd0f2ca095a0567e8622ec05de63e0d09c6bcf9b4a606e3f77aafc4f8c545f3475b",
   "display_name": "Python",
   "language": "python"
  }
 },
 "nbformat": 4,
 "nbformat_minor": 2,
 "cells": [
  {
   "source": [
    "# If-elif-else (conditional statements)"
   ],
   "cell_type": "markdown",
   "metadata": {}
  },
  {
   "source": [
    "## Syntax\n",
    "\n",
    "Correct: I am from Delhi.\n",
    "Incorrect: Delhi am from I.\n",
    "\n",
    "Python has a syntax which is also called it grammar.\n",
    "\n",
    "This is correct python syntax:\n",
    "\n",
    "```py\n",
    "if age == 15:\n",
    "    print(\"Your age is 15!\")\n",
    "```\n",
    "\n",
    "This is incorrect python syntax:\n",
    "\n",
    "```cpp\n",
    "if (age == 15) {\n",
    "    cout << \"Your age is 15!\";\n",
    "}\n",
    "```"
   ],
   "cell_type": "markdown",
   "metadata": {}
  },
  {
   "source": [
    "### Syntax of `if` statements\n",
    "\n",
    "```\n",
    "if <CONDITION_1>:\n",
    "    STATEMENT_1...\n",
    "    STATEMENT_2...\n",
    "    STATEMENTS...\n",
    "elif <CONDITION_2>: (OPTIONAL)\n",
    "    STATEMENTS...\n",
    "elif <CONDITION_3>: (OPTIONAL)\n",
    "    STATEMENTS...\n",
    "else: (OPTIONAL)\n",
    "    STATEMENTS"
   ],
   "cell_type": "markdown",
   "metadata": {}
  },
  {
   "cell_type": "code",
   "execution_count": 8,
   "metadata": {},
   "outputs": [
    {
     "output_type": "stream",
     "name": "stdout",
     "text": [
      "Your age is not 15 or 30!\n"
     ]
    }
   ],
   "source": [
    "age = 15 # declare variable called age here (4 bytes of memory is allocated), \n",
    "\n",
    "age = 30 # over-write variable called age here (the earlier memory was replaced with the new one, 4 bytes of memory is re-allocated)\n",
    "\n",
    "\"\\\"\\\"\" # 2 bytes\n",
    "\n",
    "if age == 15:\n",
    "    print(\"Your age 15!\") # 12 bytes\n",
    "if age == 30:\n",
    "    print(\"Your age 30!\") # 12 bytes\n",
    "elif age == 45:\n",
    "    print(\"Your age is 45\") # 14 bytes\n",
    "else:\n",
    "    print(\"Your age is not 15 or 30!\") # 25 bytes\n",
    "\n",
    "# At the end of the program, we are using only 4 bytes of memory\n"
   ]
  }
 ]
}