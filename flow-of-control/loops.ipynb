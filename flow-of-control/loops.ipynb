{
 "metadata": {
  "language_info": {
   "codemirror_mode": {
    "name": "ipython",
    "version": 3
   },
   "file_extension": ".py",
   "mimetype": "text/x-python",
   "name": "python",
   "nbconvert_exporter": "python",
   "pygments_lexer": "ipython3",
   "version": "3.8.6"
  },
  "orig_nbformat": 2,
  "kernelspec": {
   "name": "python386jvsc74a57bd0f2ca095a0567e8622ec05de63e0d09c6bcf9b4a606e3f77aafc4f8c545f3475b",
   "display_name": "Python 3.8.6 64-bit ('.venv': venv)",
   "language": "python"
  }
 },
 "nbformat": 4,
 "nbformat_minor": 2,
 "cells": [
  {
   "source": [
    "# Loops\n",
    "\n",
    "Iteration (or looping, or repetition) mean _repetitions_ of a **set of statements** depending upon a **TEST CONDITION**.\n",
    "\n",
    "They can also be called repetitions, iterations, sequences etc."
   ],
   "cell_type": "markdown",
   "metadata": {}
  },
  {
   "source": [
    "## Types of loops\n",
    "\n",
    "1. `for` loop\n",
    "\n",
    "    ```\n",
    "    for CONDITION:\n",
    "        STATEMENT 1\n",
    "        STATEMENT 2\n",
    "        ...\n",
    "    ```\n",
    "    \n",
    "2. `while` loop\n",
    "\n",
    "    ```\n",
    "    while CONDITION:\n",
    "        STATEMENT 1\n",
    "        STATEMENT 2\n",
    "    ```"
   ],
   "cell_type": "markdown",
   "metadata": {}
  },
  {
   "source": [
    "_**NOTE**_: `in` is called the membership operator.\n"
   ],
   "cell_type": "markdown",
   "metadata": {}
  },
  {
   "source": [
    "x = [1, 3, 5, 6]\n",
    "\n",
    "print(5 in x)\n",
    "\n",
    "print(\"hello\" in x)"
   ],
   "cell_type": "code",
   "metadata": {},
   "execution_count": 1,
   "outputs": [
    {
     "output_type": "stream",
     "name": "stdout",
     "text": [
      "True\nFalse\n"
     ]
    }
   ]
  },
  {
   "source": [
    "This checks is the element `5` exists in the list called `x`. If it exists, it returns `True` otherwise `False`.\n"
   ],
   "cell_type": "markdown",
   "metadata": {}
  },
  {
   "source": [
    "## for loops"
   ],
   "cell_type": "markdown",
   "metadata": {}
  },
  {
   "cell_type": "code",
   "execution_count": 2,
   "metadata": {},
   "outputs": [
    {
     "output_type": "stream",
     "name": "stdout",
     "text": [
      "80\n\n79\n\n100\n\n57\n\n90\n\nhi\n\n"
     ]
    }
   ],
   "source": [
    "marks_list = [80, 79, 100, 57, 90, \"hi\"] # order is preserved for lists, but in `set` the order is not preserved\n",
    "\n",
    "for mark in marks_list:\n",
    "    print(mark)\n",
    "    print()"
   ]
  },
  {
   "source": [
    "### Question\n",
    "\n",
    "Take user input for the marks of 5 students in maths (out of 100), and store them in a python list called `marks_list`.\n",
    "Then print the following:\n",
    "\n",
    "1. Their total marks\n",
    "2. Their average marks"
   ],
   "cell_type": "markdown",
   "metadata": {}
  },
  {
   "cell_type": "code",
   "execution_count": 3,
   "metadata": {},
   "outputs": [
    {
     "output_type": "stream",
     "name": "stdout",
     "text": [
      "The total marks is 450\nThe average marks is 90.0\n"
     ]
    }
   ],
   "source": [
    "# Method 1\n",
    "\n",
    "marks_list = [0, 0, 0, 0, 0]\n",
    "total = 0\n",
    "\n",
    "for mark in marks_list:\n",
    "    obtained_marks = int(input('Enter marks of student: '))\n",
    "    total = total + obtained_marks\n",
    "\n",
    "print(f\"The total marks is {total}\")\n",
    "\n",
    "print(f\"The average marks is {total / len(marks_list)}\")"
   ]
  },
  {
   "cell_type": "code",
   "execution_count": 4,
   "metadata": {},
   "outputs": [
    {
     "output_type": "stream",
     "name": "stdout",
     "text": [
      "The total marks is 180\nThe average marks is 90.0\n"
     ]
    }
   ],
   "source": [
    "# Method 2\n",
    "\n",
    "marks_list = [0, 0]\n",
    "\n",
    "for index, mark in enumerate(marks_list):\n",
    "    marks_list[index] = int(input('Enter marks of student: '))\n",
    "\n",
    "total = sum(marks_list)\n",
    "\n",
    "print(f\"The total marks is {total}\")\n",
    "\n",
    "print(f\"The average marks is {total / len(marks_list)}\")"
   ]
  },
  {
   "cell_type": "code",
   "execution_count": 6,
   "metadata": {},
   "outputs": [
    {
     "output_type": "stream",
     "name": "stdout",
     "text": [
      "The total marks is 450\nThe average marks is 90.0\n"
     ]
    }
   ],
   "source": [
    "# Method 3\n",
    "\n",
    "marks_list = []\n",
    "\n",
    "# We use `_` as a \"throwaway\" variable, that is, a variable that is completely useless. It is there just for the sake of correct syntax.\n",
    "for _ in range(5): \n",
    "    marks_list.append(int(input('Enter marks of student: ')))\n",
    "\n",
    "total = sum(marks_list)\n",
    "\n",
    "print(f\"The total marks is {total}\")\n",
    "\n",
    "print(f\"The average marks is {total / len(marks_list)}\")"
   ]
  },
  {
   "source": [
    "## while loops"
   ],
   "cell_type": "markdown",
   "metadata": {}
  },
  {
   "cell_type": "code",
   "execution_count": 8,
   "metadata": {
    "tags": []
   },
   "outputs": [
    {
     "output_type": "stream",
     "name": "stdout",
     "text": [
      "0\n1\n2\n3\n4\n"
     ]
    }
   ],
   "source": [
    "p = 0\n",
    "\n",
    "while 0 <= p < 5:\n",
    "    print(p)\n",
    "    p += 1 # p = p + 1"
   ]
  },
  {
   "cell_type": "code",
   "execution_count": null,
   "metadata": {},
   "outputs": [],
   "source": []
  }
 ]
}