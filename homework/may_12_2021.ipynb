{
 "metadata": {
  "language_info": {
   "codemirror_mode": {
    "name": "ipython",
    "version": 3
   },
   "file_extension": ".py",
   "mimetype": "text/x-python",
   "name": "python",
   "nbconvert_exporter": "python",
   "pygments_lexer": "ipython3",
   "version": "3.9.4"
  },
  "orig_nbformat": 2,
  "kernelspec": {
   "name": "pythonjvsc74a57bd04c8fc7f3bb5aac0a7bd0c6660335c9a7f758c8b6169e544ce59782bbb8772ee4",
   "display_name": "Python 3.9.4  ('.venv': venv)"
  },
  "metadata": {
   "interpreter": {
    "hash": "4c8fc7f3bb5aac0a7bd0c6660335c9a7f758c8b6169e544ce59782bbb8772ee4"
   }
  }
 },
 "nbformat": 4,
 "nbformat_minor": 2,
 "cells": [
  {
   "source": [
    "# Question\n",
    "\n",
    "Take user input for the marks of 2 students in maths (out of 100), and store them in a python list called `marks_list`.\n",
    "Then print the name of the student who got the highest marks."
   ],
   "cell_type": "markdown",
   "metadata": {}
  },
  {
   "cell_type": "code",
   "execution_count": 14,
   "metadata": {},
   "outputs": [
    {
     "output_type": "stream",
     "name": "stdout",
     "text": [
      "Enter the name of the first student.\n",
      "Now, enter the marks obtained by hgjhgj\n",
      "Enter the name of the second student.\n",
      "Now, enter the marks obtained by fghgf\n",
      "both the students have obtained equal marks.\n"
     ]
    }
   ],
   "source": [
    "print(\"Enter the name of the first student.\")\n",
    "name_1=input(\"Enter the name of the first student.\")\n",
    "print(f\"Now, enter the marks obtained by {name_1}\")\n",
    "marks_1=int(input(f\"Now, enter the marks obtained by {name_1}\"))\n",
    "print(\"Enter the name of the second student.\")\n",
    "name_2=input(\"Enter the name of the second student.\")\n",
    "print(f\"Now, enter the marks obtained by {name_2}\")\n",
    "marks_2=int(input(f\"Now, enter the marks obtained by {name_2}\"))\n",
    "marks_list=[marks_1, marks_2]\n",
    "if marks_1 > marks_2:\n",
    "    print(f\"highest marks are obtained by {name_1}\")\n",
    "if marks_2 > marks_1:\n",
    "    print(f\"highest marks are obtained by {name_2}\")\n",
    "if marks_1 == marks_2:\n",
    "    print(\"both the students have obtained equal marks.\")"
   ]
  },
  {
   "cell_type": "code",
   "execution_count": null,
   "metadata": {},
   "outputs": [],
   "source": []
  }
 ]
}