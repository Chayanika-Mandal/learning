{
 "metadata": {
  "language_info": {
   "codemirror_mode": {
    "name": "ipython",
    "version": 3
   },
   "file_extension": ".py",
   "mimetype": "text/x-python",
   "name": "python",
   "nbconvert_exporter": "python",
   "pygments_lexer": "ipython3",
   "version": 3
  },
  "orig_nbformat": 2
 },
 "nbformat": 4,
 "nbformat_minor": 2,
 "cells": [
  {
   "source": [
    "# Question\n",
    "\n",
    "Take user input for the marks of 2 students in maths (out of 100), and store them in a python list called `marks_list`.\n",
    "Then print the name of the student who got the highest marks."
   ],
   "cell_type": "markdown",
   "metadata": {}
  }
 ]
}