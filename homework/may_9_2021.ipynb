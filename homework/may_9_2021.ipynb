{
 "metadata": {
  "language_info": {
   "codemirror_mode": {
    "name": "ipython",
    "version": 3
   },
   "file_extension": ".py",
   "mimetype": "text/x-python",
   "name": "python",
   "nbconvert_exporter": "python",
   "pygments_lexer": "ipython3",
   "version": "3.9.4"
  },
  "orig_nbformat": 2,
  "kernelspec": {
   "name": "python394jvsc74a57bd0fbbcf05c31d22226b1f81e3838621793198ce39077729204a154d6123a7cb129",
   "display_name": "Python 3.9.4 64-bit"
  },
  "metadata": {
   "interpreter": {
    "hash": "fbbcf05c31d22226b1f81e3838621793198ce39077729204a154d6123a7cb129"
   }
  }
 },
 "nbformat": 4,
 "nbformat_minor": 2,
 "cells": [
  {
   "source": [
    "# Question\n",
    "\n",
    "Take user input for the marks of 3 students in maths (out of 100), and store them in a python list called `marks_list`.\n",
    "Then print the following:\n",
    "\n",
    "1. Their total marks\n",
    "2. Their average marks"
   ],
   "cell_type": "markdown",
   "metadata": {}
  }
 ]
}