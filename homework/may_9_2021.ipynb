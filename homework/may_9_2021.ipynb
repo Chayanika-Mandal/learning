{
 "metadata": {
  "language_info": {
   "codemirror_mode": {
    "name": "ipython",
    "version": 3
   },
   "file_extension": ".py",
   "mimetype": "text/x-python",
   "name": "python",
   "nbconvert_exporter": "python",
   "pygments_lexer": "ipython3",
   "version": "3.9.4"
  },
  "orig_nbformat": 2,
  "kernelspec": {
   "name": "python394jvsc74a57bd033dc6d49505b4536b6a128d9d7c879e1fa44477ad44947bbbe73093067fe6393",
   "display_name": "Python 3.9.4 64-bit"
  },
  "metadata": {
   "interpreter": {
    "hash": "33dc6d49505b4536b6a128d9d7c879e1fa44477ad44947bbbe73093067fe6393"
   }
  }
 },
 "nbformat": 4,
 "nbformat_minor": 2,
 "cells": [
  {
   "cell_type": "code",
   "execution_count": 22,
   "metadata": {},
   "outputs": [
    {
     "output_type": "stream",
     "name": "stdout",
     "text": [
      "Enter the name of the student.\n",
      "enter the marks obtained by tuyt\n",
      "Enter the name of the second student.\n",
      "enter the marks obtained by ytyut\n",
      "Enter the name of the third student.\n",
      "enter the marks obtained by ytuyt\n",
      "The total marks obtained by tuyt, ytyut and ytuyt is 190\n",
      "The average marks obtained by tuyt, ytyut and ytuyt is 63.333333333333336\n"
     ]
    }
   ],
   "source": [
    "print(\"Enter the name of the student.\")\n",
    "name_1=input(\"Enter the name of the student.\")\n",
    "print(f\"enter the marks obtained by {name_1}\")\n",
    "Marks_1=int(input(\"enter the marks obtained by {name_1}\"))\n",
    "print(\"Enter the name of the second student.\")\n",
    "name_2=input(\"Enter the name of the second student.\")\n",
    "\n",
    "print(f\"enter the marks obtained by {name_2}\")\n",
    "Marks_2=int(input(f\"enter the marks obtained by {name_2}\"))\n",
    "\n",
    "print (\"Enter the name of the third student.\")\n",
    "name_3=input(\"Enter the name of the third student.\")\n",
    "print(f\"enter the marks obtained by {name_3}\")\n",
    "Marks_3=int(input(f\"enter the marks obtained by {name_3}\"))\n",
    "marks_list=(Marks_1, Marks_2, Marks_3)\n",
    "print(f\"The total marks obtained by {name_1}, {name_2} and {name_3} is {Marks_1+Marks_2+Marks_3}\")\n",
    "total_marks=Marks_1+Marks_2+Marks_3\n",
    "print(f\"The average marks obtained by {name_1}, {name_2} and {name_3} is {total_marks/3}\")\n",
    "\n",
    "\n"
   ]
  },
  {
   "source": [
    "# Question\n",
    "\n",
    "Take user input for the marks of 3 students in maths (out of 100), and store them in a python list called `marks_list`.\n",
    "Then print the following:\n",
    "\n",
    "1. Their total marks\n",
    "2. Their average marks"
   ],
   "cell_type": "code",
   "metadata": {},
   "execution_count": null,
   "outputs": []
  }
 ]
}