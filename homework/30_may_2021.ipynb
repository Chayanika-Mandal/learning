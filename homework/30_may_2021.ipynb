{
 "metadata": {
  "language_info": {
   "codemirror_mode": {
    "name": "ipython",
    "version": 3
   },
   "file_extension": ".py",
   "mimetype": "text/x-python",
   "name": "python",
   "nbconvert_exporter": "python",
   "pygments_lexer": "ipython3",
   "version": 3
  },
  "orig_nbformat": 2
 },
 "nbformat": 4,
 "nbformat_minor": 2,
 "cells": [
  {
   "source": [
    "# Questions\n",
    "\n",
    "1. WAP that reads a line and a substring. It should then display the number of occurrences of the given substring in the line. You have two show TWO different methods of solving this problem.\n",
    "\n",
    "    ```python\n",
    "    line = input(\"Enter line:\")\n",
    "    substring = input(\"Enter substring\")\n",
    "    ```\n",
    "\n",
    "2. WAP that inputs a string that contains a decimal number and prints out the decimal part of the number. Eg: input of 515.89087 gives output 89087.\n",
    "\n",
    "3. WAP to check if an input string is a palindrome WITHOUT using string slicing."
   ],
   "cell_type": "markdown",
   "metadata": {}
  }
 ]
}