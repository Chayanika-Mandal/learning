{
 "metadata": {
  "language_info": {
   "codemirror_mode": {
    "name": "ipython",
    "version": 3
   },
   "file_extension": ".py",
   "mimetype": "text/x-python",
   "name": "python",
   "nbconvert_exporter": "python",
   "pygments_lexer": "ipython3",
   "version": "3.9.4"
  },
  "orig_nbformat": 2,
  "kernelspec": {
   "name": "pythonjvsc74a57bd04c8fc7f3bb5aac0a7bd0c6660335c9a7f758c8b6169e544ce59782bbb8772ee4",
   "display_name": "Python 3.9.4  ('.venv': poetry)"
  },
  "metadata": {
   "interpreter": {
    "hash": "4c8fc7f3bb5aac0a7bd0c6660335c9a7f758c8b6169e544ce59782bbb8772ee4"
   }
  }
 },
 "nbformat": 4,
 "nbformat_minor": 2,
 "cells": [
  {
   "source": [
    "# Questions\n",
    "\n",
    "1. WAP that reads a line and a substring. It should then display the number of occurrences of the given substring in the line. You have two show TWO different methods of solving this problem.\n",
    "\n",
    "    ```python\n",
    "    line = input(\"Enter line:\")\n",
    "\n",
    "    substring = input(\"Enter substring\")\n",
    "    ```\n",
    "\n",
    "2. WAP that inputs a string that contains a decimal number and prints out the decimal part of the number. Eg: input of 515.89087 gives output 89087.\n",
    "\n",
    "3. WAP to check if an input string is a palindrome WITHOUT using string slicing."
   ],
   "cell_type": "markdown",
   "metadata": {}
  },
  {
   "cell_type": "code",
   "execution_count": 97,
   "metadata": {},
   "outputs": [
    {
     "output_type": "stream",
     "name": "stdout",
     "text": [
      "2\n"
     ]
    }
   ],
   "source": [
    "line = input(\"Enter line\")\n",
    "substring = input(\"Enter substring\")\n",
    "print(line.count(substring))"
   ]
  },
  {
   "cell_type": "code",
   "execution_count": 4,
   "metadata": {},
   "outputs": [
    {
     "output_type": "stream",
     "name": "stdout",
     "text": [
      "enter\n",
      "No decimal part in 345 \n"
     ]
    }
   ],
   "source": [
    "print(\"enter\")\n",
    "num = input(\"enter\")\n",
    "decimal_part = (num[num.find(\".\") + 1:len(num)])\n",
    "if \".\" in num:\n",
    "    print(decimal_part)\n",
    "else:\n",
    "    print(f\"No decimal part in {num} \")\n"
   ]
  },
  {
   "cell_type": "code",
   "execution_count": 2,
   "metadata": {},
   "outputs": [
    {
     "output_type": "stream",
     "name": "stdout",
     "text": [
      "0\n"
     ]
    }
   ],
   "source": [
    "line2 = input(\"Enter line\")\n",
    "substring2 = input(\"Enter substring\")\n",
    "n = 0\n",
    "while substring2 in line2:\n",
    "    line2 = (line2[line2.find(substring2) + 1:len(line2)])\n",
    "    n += 1\n",
    "print(n)\n",
    "\n"
   ]
  },
  {
   "cell_type": "code",
   "execution_count": null,
   "metadata": {},
   "outputs": [],
   "source": []
  }
 ]
}