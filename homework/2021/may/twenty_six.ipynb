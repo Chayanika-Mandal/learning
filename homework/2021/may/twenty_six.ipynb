{
 "metadata": {
  "language_info": {
   "codemirror_mode": {
    "name": "ipython",
    "version": 3
   },
   "file_extension": ".py",
   "mimetype": "text/x-python",
   "name": "python",
   "nbconvert_exporter": "python",
   "pygments_lexer": "ipython3",
   "version": "3.9.4"
  },
  "orig_nbformat": 2,
  "kernelspec": {
   "name": "python394jvsc74a57bd033dc6d49505b4536b6a128d9d7c879e1fa44477ad44947bbbe73093067fe6393",
   "display_name": "Python 3.9.4 64-bit"
  },
  "metadata": {
   "interpreter": {
    "hash": "33dc6d49505b4536b6a128d9d7c879e1fa44477ad44947bbbe73093067fe6393"
   }
  }
 },
 "nbformat": 4,
 "nbformat_minor": 2,
 "cells": [
  {
   "source": [
    "# Questions"
   ],
   "cell_type": "markdown",
   "metadata": {}
  },
  {
   "source": [
    "1. WAP that asks a user for a password once and then again. If the second password matches the first one, it should output \"success\" and terminate successfully. If the password is incorrect it should ask for input again and keep asking until the user inputs a password that matches the first one."
   ],
   "cell_type": "markdown",
   "metadata": {}
  },
  {
   "cell_type": "code",
   "execution_count": 1,
   "metadata": {},
   "outputs": [
    {
     "output_type": "stream",
     "name": "stdout",
     "text": [
      "Incorrect password. Enter your password again.\n",
      "Incorrect password. Enter your password again.\n",
      "success.\n"
     ]
    }
   ],
   "source": [
    "password_1 = input(\"Enter your password.\")\n",
    "password_2 = input(\"Enter your password again.\")\n",
    "while password_1 != password_2 :\n",
    "    print(\"Incorrect password. Enter your password again.\")\n",
    "    password_2 = input(\"Incorrect password. Enter your password again.\")\n",
    "else : print(\"success.\")"
   ]
  },
  {
   "cell_type": "code",
   "execution_count": null,
   "metadata": {},
   "outputs": [],
   "source": []
  }
 ]
}