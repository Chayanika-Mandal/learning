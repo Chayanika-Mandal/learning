{
 "metadata": {
  "language_info": {
   "codemirror_mode": {
    "name": "ipython",
    "version": 3
   },
   "file_extension": ".py",
   "mimetype": "text/x-python",
   "name": "python",
   "nbconvert_exporter": "python",
   "pygments_lexer": "ipython3",
   "version": "3.9.4"
  },
  "orig_nbformat": 2,
  "kernelspec": {
   "name": "pythonjvsc74a57bd04c8fc7f3bb5aac0a7bd0c6660335c9a7f758c8b6169e544ce59782bbb8772ee4",
   "display_name": "Python 3.9.4  ('.venv': poetry)"
  },
  "metadata": {
   "interpreter": {
    "hash": "4c8fc7f3bb5aac0a7bd0c6660335c9a7f758c8b6169e544ce59782bbb8772ee4"
   }
  }
 },
 "nbformat": 4,
 "nbformat_minor": 2,
 "cells": [
  {
   "source": [
    "# Questions\n",
    "\n",
    "1. Print the numbers from 0 to 10 using a `for` loop.\n",
    "\n",
    "2. Make a number guessing game.\n",
    "\n",
    "    First the program should choose a random number between `1` and `100`. \n",
    "    Then it should ask the user to guess the number. \n",
    "    For example if the number chosen by the program is `53` and the user guesses `43`, the program should \n",
    "    say \"The guess is too low\" and prompt the user to try again. If the user guesses `65`, the program\n",
    "    should say \"The guess is too high\" and prompt the user to try again. If the user guess `53`,\n",
    "    the program should say \"Successful\" and then terminate.\n",
    "\n",
    "3. Find the output:\n",
    "\n",
    "    1.\n",
    "    \n",
    "    ```python\n",
    "    for a in (2, 7):\n",
    "        for b in (1, a):\n",
    "            print(b , end=\"\")\n",
    "            print()\n",
    "    ```\n",
    "    \n",
    "    2.\n",
    "    ```python\n",
    "    while (6 + 2 > 8):\n",
    "        print(\"Gotcha!\")\n",
    "    else:\n",
    "        print(\"Going out!\")\n",
    "    ```"
   ],
   "cell_type": "markdown",
   "metadata": {}
  },
  {
   "cell_type": "code",
   "execution_count": 2,
   "metadata": {},
   "outputs": [
    {
     "output_type": "stream",
     "name": "stdout",
     "text": [
      "0\n1\n2\n3\n4\n5\n6\n7\n8\n9\n10\n"
     ]
    }
   ],
   "source": [
    "for x in range(0,11):\n",
    "    print(x)"
   ]
  },
  {
   "source": [
    "1.  1\n",
    "    12\n",
    "    123\n",
    "    1234\n",
    "    12345\n",
    "    123456\n",
    "\n",
    "2.  Going out!\n"
   ],
   "cell_type": "markdown",
   "metadata": {}
  },
  {
   "cell_type": "code",
   "execution_count": null,
   "metadata": {},
   "outputs": [],
   "source": []
  }
 ]
}