{
 "metadata": {
  "language_info": {
   "codemirror_mode": {
    "name": "ipython",
    "version": 3
   },
   "file_extension": ".py",
   "mimetype": "text/x-python",
   "name": "python",
   "nbconvert_exporter": "python",
   "pygments_lexer": "ipython3",
   "version": "3.8.6"
  },
  "orig_nbformat": 2,
  "kernelspec": {
   "name": "python386jvsc74a57bd0f2ca095a0567e8622ec05de63e0d09c6bcf9b4a606e3f77aafc4f8c545f3475b",
   "display_name": "Python 3.8.6 64-bit ('.venv': venv)",
   "language": "python"
  }
 },
 "nbformat": 4,
 "nbformat_minor": 2,
 "cells": [
  {
   "source": [
    "# Questions"
   ],
   "cell_type": "markdown",
   "metadata": {}
  },
  {
   "source": [
    "1. WAP that asks a user for a password once and then again. If the second password matches the first one, it should output \"success\" and terminate successfully. If the password is incorrect it should ask for input again and keep asking until the user inputs a password that matches the first one."
   ],
   "cell_type": "markdown",
   "metadata": {}
  },
  {
   "cell_type": "code",
   "execution_count": null,
   "metadata": {},
   "outputs": [],
   "source": []
  }
 ]
}