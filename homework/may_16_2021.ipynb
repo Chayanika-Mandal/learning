{
 "metadata": {
  "language_info": {
   "codemirror_mode": {
    "name": "ipython",
    "version": 3
   },
   "file_extension": ".py",
   "mimetype": "text/x-python",
   "name": "python",
   "nbconvert_exporter": "python",
   "pygments_lexer": "ipython3",
   "version": 3
  },
  "orig_nbformat": 2
 },
 "nbformat": 4,
 "nbformat_minor": 2,
 "cells": [
  {
   "source": [
    "Question 1: Draw the Truth table of `P && !Q`. (**_DONE_**)"
   ],
   "cell_type": "markdown",
   "metadata": {}
  },
  {
   "source": [
    "Question 2: \n",
    "\n",
    "A school has following rules for grading system:\n",
    "\n",
    "- Below 25 - F\n",
    "- 25 to 45 - E\n",
    "- 45 to 50 - D\n",
    "- 50 to 60 - C\n",
    "- 60 to 80 - B\n",
    "- Above 80 - A\n",
    "\n",
    "Ask user to enter marks and print the corresponding grade."
   ],
   "cell_type": "markdown",
   "metadata": {}
  },
  {
   "source": [
    "Question 3:\n",
    "\n",
    "A student will not be allowed to sit in exam if his/her attendence is less than 75%.\n",
    "\n",
    "Take following input from user\n",
    "\n",
    "Number of classes held\n",
    "Number of classes attended.\n",
    "\n",
    "And print\n",
    "- percentage of class attended\n",
    "- Is student is allowed to sit in exam or not?"
   ],
   "cell_type": "markdown",
   "metadata": {}
  },
  {
   "source": [
    "Question 4:\n",
    "\n",
    "Take the input marks of 3 students and store them in a list called `marks_list`. Print `YES` if two or more students have equal marks, otherwise print `NO`."
   ],
   "cell_type": "markdown",
   "metadata": {}
  }
 ]
}