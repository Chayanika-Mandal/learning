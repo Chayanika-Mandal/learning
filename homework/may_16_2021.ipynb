{
 "metadata": {
  "language_info": {
   "codemirror_mode": {
    "name": "ipython",
    "version": 3
   },
   "file_extension": ".py",
   "mimetype": "text/x-python",
   "name": "python",
   "nbconvert_exporter": "python",
   "pygments_lexer": "ipython3",
   "version": "3.8.6"
  },
  "orig_nbformat": 2,
  "kernelspec": {
   "name": "python386jvsc74a57bd0f2ca095a0567e8622ec05de63e0d09c6bcf9b4a606e3f77aafc4f8c545f3475b",
   "display_name": "Python 3.8.6 64-bit ('.venv': venv)",
   "language": "python"
  },
  "metadata": {
   "interpreter": {
    "hash": "4c8fc7f3bb5aac0a7bd0c6660335c9a7f758c8b6169e544ce59782bbb8772ee4"
   }
  }
 },
 "nbformat": 4,
 "nbformat_minor": 2,
 "cells": [
  {
   "source": [
    "Question 1: Draw the Truth table of `P && !Q`. (**_DONE_**)"
   ],
   "cell_type": "markdown",
   "metadata": {}
  },
  {
   "source": [
    "Question 2: \n",
    "\n",
    "A school has following rules for grading system:\n",
    "\n",
    "- Below 25 - F\n",
    "- 25 to 45 - E\n",
    "- 45 to 50 - D\n",
    "- 50 to 60 - C\n",
    "- 60 to 80 - B\n",
    "- Above 80 - A\n",
    "\n",
    "Ask user to enter marks and print the corresponding grade."
   ],
   "cell_type": "markdown",
   "metadata": {}
  },
  {
   "cell_type": "code",
   "execution_count": 2,
   "metadata": {},
   "outputs": [
    {
     "output_type": "stream",
     "name": "stdout",
     "text": [
      "enter the name of the student.\n",
      "enter the marks obtained by a\n",
      "the grade obtained by the student is F.\n"
     ]
    }
   ],
   "source": [
    "print(\"enter the name of the student.\")\n",
    "name_1=input(\"enter the name of the student.\")\n",
    "print(f\"enter the marks obtained by {name_1}\")\n",
    "marks_1=int(input(f\"enter the marks obtained by {name_1}\"))\n",
    "if marks_1 > 80:\n",
    "    print(\"the grade obtained by the student is A.\")\n",
    "elif 80 >= marks_1 > 60:\n",
    "    print(\"the grade obtained by the student is B.\")\n",
    "elif 60 >= marks_1 > 50:\n",
    "    print(\"the grade obtained by the student is C.\")\n",
    "elif 40 >= marks_1 > 50:\n",
    "    print(\"the grade obtained by the student is D.\")\n",
    "elif 50 >= marks_1 >= 25:\n",
    "    print(\"the grade obtained by the student is E.\")\n",
    "else:\n",
    "    print(\"the grade obtained by the student is F.\")\n"
   ]
  },
  {
   "source": [
    "Question 3:\n",
    "\n",
    "A student will not be allowed to sit in exam if his/her attendence is less than 75%.\n",
    "\n",
    "Take following input from user\n",
    "\n",
    "Number of classes held\n",
    "Number of classes attended.\n",
    "\n",
    "And print\n",
    "- percentage of class attended\n",
    "- Is student is allowed to sit in exam or not?"
   ],
   "cell_type": "markdown",
   "metadata": {}
  },
  {
   "cell_type": "code",
   "execution_count": 16,
   "metadata": {},
   "outputs": [
    {
     "output_type": "stream",
     "name": "stdout",
     "text": [
      "Enter the name of the student.\n",
      "enter the number of classes held.\n",
      "enter the number of classes attended by A\n",
      "the percentage of class attended by A is 65.0\n",
      "A will not be allowed to sit for the exam\n"
     ]
    }
   ],
   "source": [
    "print(\"Enter the name of the student.\")\n",
    "name_1=input(\"Enter the name of the student.\")\n",
    "print(\"enter the number of classes held.\")\n",
    "classes_held=int(input(\"enter the number of classes held.\"))\n",
    "print(f\"enter the number of classes attended by {name_1}\")\n",
    "classes_attended=int(input(f\"enter the number of classes attended by {name_1}\"))\n",
    "x = classes_attended/classes_held\n",
    "print(f\"the percentage of class attended by {name_1} is\", (x) )\n",
    "if x < 0.75:\n",
    "    print(f\"{name_1} will not be allowed to sit for the exam\")\n",
    "else:\n",
    "    print(f\"{name_1} will be allowed to sit for the exam\")"
   ]
  },
  {
   "cell_type": "code",
   "execution_count": null,
   "metadata": {},
   "outputs": [],
   "source": []
  },
  {
   "source": [
    "Question 4:\n",
    "\n",
    "Take the input marks of 3 students and store them in a list called `marks_list`. Print `YES` if two or more students have equal marks, otherwise print `NO`."
   ],
   "cell_type": "markdown",
   "metadata": {}
  },
  {
   "cell_type": "code",
   "execution_count": 1,
   "metadata": {},
   "outputs": [
    {
     "output_type": "error",
     "ename": "SyntaxError",
     "evalue": "invalid syntax (<ipython-input-1-5d6805dd0f63>, line 14)",
     "traceback": [
      "\u001b[1;36m  File \u001b[1;32m\"<ipython-input-1-5d6805dd0f63>\"\u001b[1;36m, line \u001b[1;32m14\u001b[0m\n\u001b[1;33m    for mark in marks_list\u001b[0m\n\u001b[1;37m                          ^\u001b[0m\n\u001b[1;31mSyntaxError\u001b[0m\u001b[1;31m:\u001b[0m invalid syntax\n"
     ]
    }
   ],
   "source": [
    "print(\"enter the name of the student.\")\n",
    "name_1=input(\"enter the name of the student.\")\n",
    "print(f\"enter the marks obtained by {name_1}\")\n",
    "marks_1=int(input(f\"enter the marks obtained by {name_1}\"))\n",
    "print(\"enter the name of the second student.\")\n",
    "name_2=input(\"enter the name of the student.\")\n",
    "print(f\"enter the marks obtained by {name_2}\")\n",
    "marks_2=int(input(f\"enter the marks obtained by {name_2}\"))\n",
    "print(\"enter the name of the third student.\")\n",
    "name_3=input(\"enter the name of the student.\")\n",
    "print(f\"enter the marks obtained by {name_3}\")\n",
    "marks_3=int(input(f\"enter the marks obtained by {name_3}\"))\n",
    "marks_list=[marks_1, marks_2, marks_3]\n",
    "for mark in marks_list:\n",
    "    marks_list.remove(mark)\n",
    "    for index element in enumerate(marks_list)\n",
    "    if element == mark: \n",
    "    print(\"YES\")\n",
    "    else:\n",
    "    marks_list.append(mark)\n",
    "    \n",
    "if marks_1 == marks_2:\n",
    "    print(\"YES\")\n",
    "elif marks_2 == marks_3:\n",
    "    print(\"YES\")\n",
    "elif marks_1 == marks_3:\n",
    "    print(\"YES\")\n",
    "else:\n",
    "    print(\"NO\")"
   ]
  },
  {
   "cell_type": "code",
   "execution_count": 16,
   "metadata": {},
   "outputs": [
    {
     "output_type": "stream",
     "name": "stdout",
     "text": [
      "enter the name of the student.\n",
      "enter the marks obtained by a\n",
      "enter the name of the second student.\n",
      "enter the marks obtained by b\n",
      "enter the name of the third student.\n",
      "enter the marks obtained by c\n"
     ]
    }
   ],
   "source": [
    "print(\"enter the name of the student.\")\n",
    "name_1=input(\"enter the name of the student.\")\n",
    "print(f\"enter the marks obtained by {name_1}\")\n",
    "marks_1=int(input(f\"enter the marks obtained by {name_1}\"))\n",
    "print(\"enter the name of the second student.\")\n",
    "name_2=input(\"enter the name of the student.\")\n",
    "print(f\"enter the marks obtained by {name_2}\")\n",
    "marks_2=int(input(f\"enter the marks obtained by {name_2}\"))\n",
    "print(\"enter the name of the third student.\")\n",
    "name_3=input(\"enter the name of the student.\")\n",
    "print(f\"enter the marks obtained by {name_3}\")\n",
    "marks_3=int(input(f\"enter the marks obtained by {name_3}\"))\n",
    "marks_list=[marks_1, marks_2, marks_3]\n",
    "for mark in marks_list:\n",
    "    marks_list.remove(mark)\n",
    "    for index, element in enumerate(marks_list):\n",
    "        if element == mark:\n",
    "            print(\"YES\")\n",
    "\n",
    "\n"
   ]
  },
  {
   "cell_type": "code",
   "execution_count": 14,
   "metadata": {},
   "outputs": [],
   "source": [
    "# Method 1\n",
    "\n",
    "marks_list = []\n",
    "\n",
    "for index in range(1, 6):\n",
    "    marks = int(input(f\"Enter marks of student number {index}\"))\n",
    "    marks_list.append(marks)\n",
    "\n",
    "for index, marks in enumerate(marks_list):\n",
    "    sliced_list = marks_list[index + 1:]\n",
    "    x = sliced_list.count(marks)\n",
    "    if x:\n",
    "        print('YES')\n",
    "        break\n",
    "\n",
    "\n",
    "if not x:\n",
    "    print('NO')"
   ]
  },
  {
   "cell_type": "code",
   "execution_count": 17,
   "metadata": {},
   "outputs": [
    {
     "output_type": "stream",
     "name": "stdout",
     "text": [
      "NO\n"
     ]
    }
   ],
   "source": [
    "# Method 2\n",
    "\n",
    "marks_list = []\n",
    "\n",
    "for index in range(1, 6):\n",
    "    marks = int(input(f\"Enter marks of student number {index}\"))\n",
    "    marks_list.append(marks)\n",
    "\n",
    "flag = False\n",
    "\n",
    "for index, marks in enumerate(marks_list):\n",
    "    sliced_list = marks_list[index + 1:]\n",
    "    x = sliced_list.count(marks)\n",
    "    if x > 0:\n",
    "        print('YES')\n",
    "        flag = True\n",
    "        break\n",
    "\n",
    "\n",
    "if flag is False:\n",
    "    print('NO')"
   ]
  }
 ]
}