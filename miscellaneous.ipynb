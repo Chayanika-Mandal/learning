{
 "metadata": {
  "language_info": {
   "codemirror_mode": {
    "name": "ipython",
    "version": 3
   },
   "file_extension": ".py",
   "mimetype": "text/x-python",
   "name": "python",
   "nbconvert_exporter": "python",
   "pygments_lexer": "ipython3",
   "version": "3.8.10"
  },
  "orig_nbformat": 2,
  "kernelspec": {
   "name": "python3810jvsc74a57bd01c8f2814024e4e9e964d92a79c71569fde81ef32fa40d0c0c7a05eb5025a33f1",
   "display_name": "Python 3.8.10 64-bit ('.venv': venv)",
   "language": "python"
  }
 },
 "nbformat": 4,
 "nbformat_minor": 2,
 "cells": [
  {
   "cell_type": "markdown",
   "source": [
    "## Debug f-string\n",
    "This allows us to print the value of a variable easily"
   ],
   "metadata": {}
  },
  {
   "cell_type": "code",
   "execution_count": 2,
   "source": [
    "variable = 67\n",
    "my_list_4 = [\"string\", \"hello\", variable]\n",
    "print(f\"my_list_4 = {my_list_4}\")\n",
    "print(f\"{my_list_4 = }\") # This is a debug f-string"
   ],
   "outputs": [
    {
     "output_type": "stream",
     "name": "stdout",
     "text": [
      "my_list_4 = ['string', 'hello', 67]\n",
      "my_list_4 = ['string', 'hello', 67]\n"
     ]
    }
   ],
   "metadata": {}
  },
  {
   "cell_type": "markdown",
   "source": [
    "## Mutability\n",
    "\n",
    "If a datatype is **mutable**, then it means that it can be changed **in place**. If it is **immutable**, then it can **not be changed in place**.\n",
    "\n",
    "Lists (most collections) are mutable.\n",
    "Strings are immutable."
   ],
   "metadata": {}
  },
  {
   "cell_type": "code",
   "execution_count": 14,
   "source": [
    "my_list = [1, 2, 3, 4, 5]\n",
    "my_list[2] = \"hello\" # this will not raise any errors since lists are mutable\n",
    "print(my_list)\n",
    "\n",
    "string = \"Hello World\"\n",
    "# string[1] = \"2\" # this will raise an `TypeError` since strings are immutable\n",
    "print(string)"
   ],
   "outputs": [
    {
     "output_type": "stream",
     "name": "stdout",
     "text": [
      "[1, 2, 'hello', 4, 5]\n",
      "Hello World\n"
     ]
    }
   ],
   "metadata": {}
  },
  {
   "cell_type": "code",
   "execution_count": 9,
   "source": [
    "s = \"hello\"\n",
    "o = s.upper()\n",
    "print(o, s)\n",
    "\n",
    "d = [1, 2, 5, 4]\n",
    "p = d.sort()\n",
    "print(d)"
   ],
   "outputs": [
    {
     "output_type": "stream",
     "name": "stdout",
     "text": [
      "HELLO hello\n",
      "[1, 2, 4, 5]\n"
     ]
    }
   ],
   "metadata": {}
  },
  {
   "cell_type": "code",
   "execution_count": 8,
   "source": [
    "## Functions always return `None` implicitly.\n",
    "\n",
    "# If you do not write any return value in a function, `None` is returned by default. \n",
    "\n",
    "def greet_name(name): \n",
    "    print(f\"Hello {name}, how are you?\") \n",
    "    return 123\n",
    "    \n",
    "s = greet_name(\"John\") # s = 123\n",
    "print(s)"
   ],
   "outputs": [
    {
     "output_type": "stream",
     "name": "stdout",
     "text": [
      "Hello John, how are you?\n",
      "123\n"
     ]
    }
   ],
   "metadata": {}
  },
  {
   "cell_type": "markdown",
   "source": [
    "## Scopes in Python\n",
    "\n",
    "In programming, the scope of a name defines the area of a program in which you can unambiguously (without any \n",
    "confusion) access that name, such as variables, functions, objects, and so on. A name will only be visible to and accessible by the \n",
    "code in its scope.\n",
    "\n",
    "A local variable can be accessed ONLY AND ONLY inside its scope. A global variable can be accessed anywhere.\n",
    "\n",
    "Local variables always take precedence over global variables.\n",
    "\n",
    "https://realpython.com/python-scope-legb-rule/"
   ],
   "metadata": {}
  },
  {
   "cell_type": "code",
   "execution_count": 10,
   "source": [
    "age = 12 # declared in the global scope\n",
    "\n",
    "# here `argument1` is declared in the scope of the function `say_hi`, so it is in local scope and can not be \n",
    "# accessed outside the function `say_hi`\n",
    "def say_hi(argument1=19): # arguments and optional arguments given to a function are in its scope\n",
    "    something = \"pop\" # declared in the local scope\n",
    "    print(f\"{age = }\")\n",
    "\n",
    "def say_hi2():\n",
    "    age = 100 # a new local variable was created which over-wrote the global variable `age`\n",
    "    print(age)\n",
    "\n",
    "def say_hi3():\n",
    "    print(age)\n",
    "\n",
    "say_hi()\n",
    "say_hi2()\n",
    "say_hi3()"
   ],
   "outputs": [
    {
     "output_type": "stream",
     "name": "stdout",
     "text": [
      "age = 12\n",
      "100\n",
      "12\n"
     ]
    }
   ],
   "metadata": {}
  },
  {
   "cell_type": "markdown",
   "source": [
    "## The ID function\n",
    "\n",
    "In Python, every object that is created is given a number that uniquely identifies it. It is guaranteed that no two objects will have the same identifier during any period in which their lifetimes overlap.\n",
    "\n",
    "To find the unique identifier of an object, we can use the `id` function."
   ],
   "metadata": {}
  },
  {
   "cell_type": "code",
   "execution_count": 8,
   "source": [
    "age_1 = \"hello234\"\n",
    "age_2 = \"hello123\"\n",
    "\n",
    "print(id(age_1))\n",
    "print(id(age_2))\n"
   ],
   "outputs": [
    {
     "output_type": "stream",
     "name": "stdout",
     "text": [
      "140213158606384\n",
      "140213159244592\n"
     ]
    }
   ],
   "metadata": {}
  },
  {
   "cell_type": "markdown",
   "source": [
    "## `pass` keyword\n",
    "\n",
    "When you want the control to do nothing, you use the pass statement."
   ],
   "metadata": {}
  },
  {
   "cell_type": "code",
   "execution_count": 15,
   "source": [
    "try:\n",
    "    a = 3 / 0\n",
    "except ZeroDivisionError:\n",
    "    pass\n",
    "    # print(\"Tried to divide by zero!\")"
   ],
   "outputs": [],
   "metadata": {}
  },
  {
   "cell_type": "markdown",
   "source": [
    "## The filter method\n",
    "\n",
    "It allows you to filter an iterable."
   ],
   "metadata": {}
  },
  {
   "cell_type": "code",
   "execution_count": null,
   "source": [
    "list_1 = [1, 2, 3, \"hi\", 5, \"hello\", \"mouse\"]\n",
    "# filter out all the strings inside this list\n",
    "list_1 = list(filter(lambda val: type(val) == int, list_1))\n",
    "print(list_1)"
   ],
   "outputs": [],
   "metadata": {}
  },
  {
   "cell_type": "code",
   "execution_count": null,
   "source": [],
   "outputs": [],
   "metadata": {}
  }
 ]
}