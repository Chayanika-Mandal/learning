{
 "metadata": {
  "language_info": {
   "codemirror_mode": {
    "name": "ipython",
    "version": 3
   },
   "file_extension": ".py",
   "mimetype": "text/x-python",
   "name": "python",
   "nbconvert_exporter": "python",
   "pygments_lexer": "ipython3",
   "version": "3.9.4"
  },
  "orig_nbformat": 2,
  "kernelspec": {
   "name": "python394jvsc74a57bd06f9e66bbbe295cdc79fd6e66d03ce289187a126f479ce2118be91268920d3d5e",
   "display_name": "Python 3.9.4 64-bit ('.venv')"
  }
 },
 "nbformat": 4,
 "nbformat_minor": 2,
 "cells": [
  {
   "source": [
    "## Debug f-string\n",
    "This allows us to print the value of a variable easily"
   ],
   "cell_type": "markdown",
   "metadata": {}
  },
  {
   "cell_type": "code",
   "execution_count": 2,
   "metadata": {},
   "outputs": [
    {
     "output_type": "stream",
     "name": "stdout",
     "text": [
      "my_list_4 = ['string', 'hello', 67]\nmy_list_4 = ['string', 'hello', 67]\n"
     ]
    }
   ],
   "source": [
    "variable = 67\n",
    "my_list_4 = [\"string\", \"hello\", variable]\n",
    "print(f\"my_list_4 = {my_list_4}\")\n",
    "print(f\"{my_list_4 = }\") # This is a debug f-string"
   ]
  }
 ]
}