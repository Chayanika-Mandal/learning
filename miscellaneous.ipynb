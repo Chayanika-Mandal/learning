{
 "metadata": {
  "language_info": {
   "codemirror_mode": {
    "name": "ipython",
    "version": 3
   },
   "file_extension": ".py",
   "mimetype": "text/x-python",
   "name": "python",
   "nbconvert_exporter": "python",
   "pygments_lexer": "ipython3",
   "version": "3.8.6"
  },
  "orig_nbformat": 2,
  "kernelspec": {
   "name": "python386jvsc74a57bd0f2ca095a0567e8622ec05de63e0d09c6bcf9b4a606e3f77aafc4f8c545f3475b",
   "display_name": "Python 3.8.6 64-bit ('.venv': venv)",
   "language": "python"
  }
 },
 "nbformat": 4,
 "nbformat_minor": 2,
 "cells": [
  {
   "source": [
    "## Debug f-string\n",
    "This allows us to print the value of a variable easily"
   ],
   "cell_type": "markdown",
   "metadata": {}
  },
  {
   "cell_type": "code",
   "execution_count": 2,
   "metadata": {},
   "outputs": [
    {
     "output_type": "stream",
     "name": "stdout",
     "text": [
      "my_list_4 = ['string', 'hello', 67]\nmy_list_4 = ['string', 'hello', 67]\n"
     ]
    }
   ],
   "source": [
    "variable = 67\n",
    "my_list_4 = [\"string\", \"hello\", variable]\n",
    "print(f\"my_list_4 = {my_list_4}\")\n",
    "print(f\"{my_list_4 = }\") # This is a debug f-string"
   ]
  },
  {
   "source": [
    "## Mutability\n",
    "\n",
    "If a datatype is **mutable**, then it means that it can be changed **in place**. If it is **immutable**, then it can **not be changed in place**.\n",
    "\n",
    "Lists (most collections) are mutable.\n",
    "Strings are immutable."
   ],
   "cell_type": "markdown",
   "metadata": {}
  },
  {
   "cell_type": "code",
   "execution_count": 14,
   "metadata": {},
   "outputs": [
    {
     "output_type": "stream",
     "name": "stdout",
     "text": [
      "[1, 2, 'hello', 4, 5]\nHello World\n"
     ]
    }
   ],
   "source": [
    "my_list = [1, 2, 3, 4, 5]\n",
    "my_list[2] = \"hello\" # this will not raise any errors since lists are mutable\n",
    "print(my_list)\n",
    "\n",
    "string = \"Hello World\"\n",
    "# string[1] = \"2\" # this will raise an `TypeError` since strings are immutable\n",
    "print(string)"
   ]
  },
  {
   "cell_type": "code",
   "execution_count": 9,
   "metadata": {},
   "outputs": [
    {
     "output_type": "stream",
     "name": "stdout",
     "text": [
      "HELLO hello\n[1, 2, 4, 5]\n"
     ]
    }
   ],
   "source": [
    "s = \"hello\"\n",
    "o = s.upper()\n",
    "print(o, s)\n",
    "\n",
    "d = [1, 2, 5, 4]\n",
    "p = d.sort()\n",
    "print(d)"
   ]
  },
  {
   "cell_type": "code",
   "execution_count": 8,
   "metadata": {},
   "outputs": [
    {
     "output_type": "stream",
     "name": "stdout",
     "text": [
      "Hello John, how are you?\n123\n"
     ]
    }
   ],
   "source": [
    "## Functions always return `None` implicitly.\n",
    "\n",
    "# If you do not write any return value in a function, `None` is returned by default. \n",
    "\n",
    "def greet_name(name): \n",
    "    print(f\"Hello {name}, how are you?\") \n",
    "    return 123\n",
    "    \n",
    "s = greet_name(\"John\") # s = 123\n",
    "print(s)"
   ]
  }
 ]
}