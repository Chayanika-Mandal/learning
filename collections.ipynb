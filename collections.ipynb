{
 "metadata": {
  "language_info": {
   "codemirror_mode": {
    "name": "ipython",
    "version": 3
   },
   "file_extension": ".py",
   "mimetype": "text/x-python",
   "name": "python",
   "nbconvert_exporter": "python",
   "pygments_lexer": "ipython3",
   "version": "3.9.4"
  },
  "orig_nbformat": 2,
  "kernelspec": {
   "name": "python394jvsc74a57bd0fbbcf05c31d22226b1f81e3838621793198ce39077729204a154d6123a7cb129",
   "display_name": "Python 3.9.4 64-bit"
  },
  "metadata": {
   "interpreter": {
    "hash": "fbbcf05c31d22226b1f81e3838621793198ce39077729204a154d6123a7cb129"
   }
  }
 },
 "nbformat": 4,
 "nbformat_minor": 2,
 "cells": [
  {
   "source": [
    "# Python collections"
   ],
   "cell_type": "markdown",
   "metadata": {}
  },
  {
   "source": [
    "## 1) Lists"
   ],
   "cell_type": "markdown",
   "metadata": {}
  },
  {
   "source": [
    "### Definition\n",
    "\n",
    "A list represets comma separated values of any datatypes between square brackets."
   ],
   "cell_type": "markdown",
   "metadata": {}
  },
  {
   "source": [
    "### Examples"
   ],
   "cell_type": "markdown",
   "metadata": {}
  },
  {
   "cell_type": "code",
   "execution_count": 7,
   "metadata": {},
   "outputs": [
    {
     "output_type": "stream",
     "name": "stdout",
     "text": [
      "my_list_5 = [[1, 2, 4, 90, 898], [1, 4.98, 'hello world', (1+9j)], [1, 78, 'string', [1, 8, 80, 5]], '7676']\n"
     ]
    }
   ],
   "source": [
    "my_list = [1, 2, 4, 90, 898]\n",
    "my_list_2 = [1, 4.98, \"hello world\", 1 + 9j]\n",
    "my_list_3 = [1, 78, \"string\", [1, 8, 80, 5]]\n",
    "\n",
    "my_list_5 = [my_list, my_list_2, my_list_3, \"7676\"]\n",
    "\n",
    "print(f\"{my_list_5 = }\")"
   ]
  },
  {
   "source": [],
   "cell_type": "markdown",
   "metadata": {}
  },
  {
   "source": [
    "## Acessing members of a list\n",
    "\n",
    "A list allows you to access its members (elements) using the indexing syntax"
   ],
   "cell_type": "markdown",
   "metadata": {}
  },
  {
   "cell_type": "code",
   "execution_count": 8,
   "metadata": {},
   "outputs": [],
   "source": [
    "my_list_6 = [\"string\", \"hello\", 1234]"
   ]
  },
  {
   "source": [
    "#### Access the first member of my_list_6"
   ],
   "cell_type": "markdown",
   "metadata": {}
  },
  {
   "cell_type": "code",
   "execution_count": 9,
   "metadata": {},
   "outputs": [
    {
     "output_type": "stream",
     "name": "stdout",
     "text": [
      "hello\n"
     ]
    }
   ],
   "source": [
    "print(my_list_6[1])"
   ]
  },
  {
   "source": [
    "#### Indexing\n",
    "\n",
    "In most programming languages, indexing starts from 0. This means that the first element of a list is actually the 0th element of that list, the second element of that list is the 1rst element of that list and so on.\n",
    "\n",
    "**_IMPORTANT_**: Indexing can only happen in certain datatypes -> strings, tuples, lists etc. Some other datatypes like integers, complex and floats do not support indexing."
   ],
   "cell_type": "markdown",
   "metadata": {}
  },
  {
   "cell_type": "code",
   "execution_count": 10,
   "metadata": {},
   "outputs": [
    {
     "output_type": "stream",
     "name": "stdout",
     "text": [
      "my_list_7[1][3] = (1+3j)\nmy_list_7[2][2][3] = 'i'\nmy_list_7[2][3][3] = 5\nmy_list_7[3][1] = '['\nmy_list_7[3][1][0] = '['\n"
     ]
    }
   ],
   "source": [
    "my_list_7 = [[1, 2, 4, 90, 898], [1, 4.98, 'hello world', 1 + 3j], [1, 78, 'string', [1, 8, 80, 5]], '7[6]76']\n",
    "\n",
    "print(f\"{my_list_7[1][3] = }\")\n",
    "print(f\"{my_list_7[2][2][3] = }\")\n",
    "print(f\"{my_list_7[2][3][3] = }\")\n",
    "\n",
    "print(f\"{my_list_7[3][1] = }\")\n",
    "print(f\"{my_list_7[3][1][0] = }\")"
   ]
  },
  {
   "cell_type": "code",
   "execution_count": 11,
   "metadata": {},
   "outputs": [
    {
     "output_type": "error",
     "ename": "IndexError",
     "evalue": "list index out of range",
     "traceback": [
      "\u001b[1;31m---------------------------------------------------------------------------\u001b[0m",
      "\u001b[1;31mIndexError\u001b[0m                                Traceback (most recent call last)",
      "\u001b[1;32m<ipython-input-11-ce4f8d140784>\u001b[0m in \u001b[0;36m<module>\u001b[1;34m\u001b[0m\n\u001b[1;32m----> 1\u001b[1;33m \u001b[0mprint\u001b[0m\u001b[1;33m(\u001b[0m\u001b[0mmy_list_6\u001b[0m\u001b[1;33m[\u001b[0m\u001b[1;36m100\u001b[0m\u001b[1;33m]\u001b[0m\u001b[1;33m)\u001b[0m\u001b[1;33m\u001b[0m\u001b[1;33m\u001b[0m\u001b[0m\n\u001b[0m",
      "\u001b[1;31mIndexError\u001b[0m: list index out of range"
     ]
    }
   ],
   "source": [
    "print(my_list_6[100])"
   ]
  },
  {
   "source": [
    "**_IMPORTANT_**: If we try to access a member of a list that does not exists, we get an `IndexError`."
   ],
   "cell_type": "markdown",
   "metadata": {}
  },
  {
   "cell_type": "code",
   "execution_count": 7,
   "metadata": {},
   "outputs": [
    {
     "output_type": "error",
     "ename": "IndexError",
     "evalue": "list index out of range",
     "traceback": [
      "\u001b[1;31m---------------------------------------------------------------------------\u001b[0m",
      "\u001b[1;31mIndexError\u001b[0m                                Traceback (most recent call last)",
      "\u001b[1;32m<ipython-input-7-e5b88f251565>\u001b[0m in \u001b[0;36m<module>\u001b[1;34m\u001b[0m\n\u001b[1;32m----> 1\u001b[1;33m \u001b[0mprint\u001b[0m\u001b[1;33m(\u001b[0m\u001b[0mmy_list_6\u001b[0m\u001b[1;33m[\u001b[0m\u001b[1;33m-\u001b[0m\u001b[1;36m100\u001b[0m\u001b[1;33m]\u001b[0m\u001b[1;33m)\u001b[0m\u001b[1;33m\u001b[0m\u001b[1;33m\u001b[0m\u001b[0m\n\u001b[0m",
      "\u001b[1;31mIndexError\u001b[0m: list index out of range"
     ]
    }
   ],
   "source": [
    "print(my_list_6[-100])"
   ]
  },
  {
   "source": [
    "### Accessing the members of a collection using negative indexing\n",
    "\n",
    "To access the members of a collection from its ending, we can either use its real index or we can use the negative indexing syntax."
   ],
   "cell_type": "markdown",
   "metadata": {}
  },
  {
   "cell_type": "code",
   "execution_count": 6,
   "metadata": {},
   "outputs": [
    {
     "output_type": "stream",
     "name": "stdout",
     "text": [
      "my_list_8[4] = 5\nmy_list_8[-1] = 5\nmy_list_8[3] = 4\nmy_list_8[-2] = 4\nmy_list_8[0] = 1\nmy_list_8[-5] = 1\n"
     ]
    }
   ],
   "source": [
    "my_list_8 = [1, 2, 3, 4, 5]\n",
    "\n",
    "# Real indexing syntax\n",
    "print(f\"{my_list_8[4] = }\")\n",
    "\n",
    "# Negative indexing syntax\n",
    "print(f\"{my_list_8[-1] = }\")\n",
    "\n",
    "# Second last element using real indexing\n",
    "print(f\"{my_list_8[3] = }\")\n",
    "\n",
    "# Second last element of a list using negative indexing\n",
    "print(f\"{my_list_8[-2] = }\")\n",
    "\n",
    "# First element using real indexing\n",
    "print(f\"{my_list_8[0] = }\")\n",
    "\n",
    "# First element of a list using negative indexing\n",
    "print(f\"{my_list_8[-5] = }\")"
   ]
  }
 ]
}