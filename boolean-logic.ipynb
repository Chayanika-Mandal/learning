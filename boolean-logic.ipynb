{
 "metadata": {
  "language_info": {
   "codemirror_mode": {
    "name": "ipython",
    "version": 3
   },
   "file_extension": ".py",
   "mimetype": "text/x-python",
   "name": "python",
   "nbconvert_exporter": "python",
   "pygments_lexer": "ipython3",
   "version": 3
  },
  "orig_nbformat": 2
 },
 "nbformat": 4,
 "nbformat_minor": 2,
 "cells": [
  {
   "source": [
    "# Boolean Logic"
   ],
   "cell_type": "markdown",
   "metadata": {}
  },
  {
   "source": [
    "In boolean logic, 0 is `False` and 1 is `True`."
   ],
   "cell_type": "markdown",
   "metadata": {}
  },
  {
   "source": [
    "## Binary Valued Quantitites\n",
    "\n",
    "Any situation where the answer can have only two values- **YES** _(`True`)_ or **No** _(`False`)_. For example:\n",
    "\n",
    "- Delhi is the capital of India. - `True`\n",
    "- The sun rises in the west. - `False`\n",
    "- What do you say? - Not a binary value\n",
    "\n",
    "`True` and `False` are called _**Truth Values**_ because they measure the truthiness (or truth value) of something."
   ],
   "cell_type": "markdown",
   "metadata": {}
  },
  {
   "source": [
    "## Logical Operators\n",
    "\n",
    "Algebraic values can be combined with the help of _mathematical operators_ like `+`, `-`, `/`, `*` etc.\n",
    "\n",
    "Logical statements can be combined with the help of _logical operators_ which are *AND* (`&&`, `.`), *OR* (`||`, `+`) and *NOT* (`!`, `~`,).\n",
    "\n",
    "Examples:\n",
    "\n",
    "- He prefers tea *not* coffee.\n",
    "- He plays guitar *and* the piano.\n",
    "- I will watch TV *or* play video games. "
   ],
   "cell_type": "markdown",
   "metadata": {}
  },
  {
   "source": [
    "Case 1: He prefers tea not coffee.\n",
    "\n",
    "1. `X` =￼\"He prefers tea\"\n",
    "2. `Y` = \"He prefers coffee\"\n",
    "\n",
    "Solution: `X ! Y` (`X NOT Y`)\n",
    "\n"
   ],
   "cell_type": "markdown",
   "metadata": {}
  },
  {
   "source": [
    "Case 2: He plays guitar and the piano.\n",
    "\n",
    "1. `X` = \"He plays guitar\"\n",
    "2. `Y` = \"He plays piano\"\n",
    "\n",
    "Solution: `X && Y` (`X AND Y`)"
   ],
   "cell_type": "markdown",
   "metadata": {}
  },
  {
   "source": [
    "Case 3: I will watch TV or play video games.\n",
    "\n",
    "1. `X` = \"I will watch TV\"\n",
    "2. `Y` = \"I will play video games\"\n",
    "\n",
    "Solution: `X || Y` (`X OR Y`)"
   ],
   "cell_type": "markdown",
   "metadata": {}
  },
  {
   "source": [
    "## Truth Tables\n",
    "\n",
    "Case 1: `P` = `True`\n",
    "\n",
    "1. `P` = `True`\n",
    "2. `!P` = `False`\n",
    "\n",
    "Case 2: `P` = `True`, `Q` = `True`\n",
    "\n",
    "1. `P` && `Q` = `True` (`P` and `Q` are *operands* here)\n",
    "2. `P` && `P` = `True`\n",
    "3. `P` || `Q` = `True`\n",
    "3. `P` || `P` = `True`\n"
   ],
   "cell_type": "markdown",
   "metadata": {}
  },
  {
   "source": [
    "In case of `AND`, if both the operands are same, then the result is also the same as either of the operands. If both the operands are different, then the result is always `False`.\n",
    "\n",
    "Example:\n",
    "\n",
    "1. `True` AND `True` will give always `True`\n",
    "2. `False` AND `False` will give always `False`\n",
    "3. `True` AND `False` will always give `False`\n",
    "\n",
    "In case of `OR`, if both the operands are same, then the result is also the same as either of the operands. If both the operands are different, then the result is always `True`.\n",
    "\n",
    "Example:\n",
    "\n",
    "1. `True` OR `True` will give always `True`\n",
    "2. `False` OR `False` will give always `False`\n",
    "3. `True` OR `False` will always give `True`\n"
   ],
   "cell_type": "markdown",
   "metadata": {}
  },
  {
   "source": [
    "Find the value of \n",
    "\n",
    "1. `P || Q && Q` where `P` = `True`, `Q` = `False`. \n",
    "\n",
    "Solution: `True`\n",
    "\n",
    "\n",
    "2.  `(P || Q) && Q` where `P` = `True`, `Q` = `False`.\n",
    "\n",
    "Solution: `False`\n",
    "\n",
    "\n",
    "3.  `!P || Q && !Q` where `P` = `True`, `Q` = `False`.\n",
    "\n",
    "Solution: `False`\n",
    "\n",
    "\n",
    "4. `!P || !Q && !Q` where `P` = `True`, `Q` = `True`.\n",
    "\n",
    "Solution: `False`"
   ],
   "cell_type": "markdown",
   "metadata": {}
  },
  {
   "source": [
    "## Basic theorems of boolean logic\n",
    "\n"
   ],
   "cell_type": "markdown",
   "metadata": {}
  }
 ]
}