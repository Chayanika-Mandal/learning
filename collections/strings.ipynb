{
 "metadata": {
  "language_info": {
   "codemirror_mode": {
    "name": "ipython",
    "version": 3
   },
   "file_extension": ".py",
   "mimetype": "text/x-python",
   "name": "python",
   "nbconvert_exporter": "python",
   "pygments_lexer": "ipython3",
   "version": "3.8.6"
  },
  "orig_nbformat": 2,
  "kernelspec": {
   "name": "python386jvsc74a57bd0f2ca095a0567e8622ec05de63e0d09c6bcf9b4a606e3f77aafc4f8c545f3475b",
   "display_name": "Python 3.8.6 64-bit ('.venv': venv)",
   "language": "python"
  },
  "metadata": {
   "interpreter": {
    "hash": "33dc6d49505b4536b6a128d9d7c879e1fa44477ad44947bbbe73093067fe6393"
   }
  }
 },
 "nbformat": 4,
 "nbformat_minor": 2,
 "cells": [
  {
   "source": [
    "# Strings\n",
    "\n",
    "Python strings are characters that are enclosed in quotes of any type- single, double or triple."
   ],
   "cell_type": "markdown",
   "metadata": {}
  },
  {
   "cell_type": "code",
   "execution_count": 44,
   "metadata": {},
   "outputs": [],
   "source": [
    "string_single = 'HelloWorld'\n",
    "string_double = \"Hello\"\n",
    "string_triple_double = \"\"\"Hello\"\"\""
   ]
  },
  {
   "source": [
    "## Find the output"
   ],
   "cell_type": "markdown",
   "metadata": {}
  },
  {
   "cell_type": "code",
   "execution_count": 45,
   "metadata": {},
   "outputs": [
    {
     "output_type": "stream",
     "name": "stdout",
     "text": [
      "Hello\nWorld\n"
     ]
    }
   ],
   "source": [
    "# 1.\n",
    "string_triple_single = '''Hello\n",
    "World'''\n",
    "print(string_triple_single)"
   ]
  },
  {
   "cell_type": "code",
   "execution_count": 46,
   "metadata": {},
   "outputs": [
    {
     "output_type": "stream",
     "name": "stdout",
     "text": [
      "Hello\n    World\n"
     ]
    }
   ],
   "source": [
    "# 2.\n",
    "a, b = 10, 10\n",
    "if a == b:\n",
    "    string_triple_single = '''Hello\n",
    "    World'''\n",
    "    print(string_triple_single)"
   ]
  },
  {
   "source": [
    "## Traversing a string\n",
    "\n",
    "Iterating (or looping) over a string."
   ],
   "cell_type": "markdown",
   "metadata": {}
  },
  {
   "cell_type": "code",
   "execution_count": 47,
   "metadata": {},
   "outputs": [
    {
     "output_type": "stream",
     "name": "stdout",
     "text": [
      "H -+e -+l -+l -+o -+  -+W -+o -+r -+l -+d -+"
     ]
    }
   ],
   "source": [
    "word = \"Hello World\"\n",
    "\n",
    "for character in word:\n",
    "    print(character, '-', end='+')"
   ]
  },
  {
   "cell_type": "code",
   "execution_count": 48,
   "metadata": {},
   "outputs": [
    {
     "output_type": "stream",
     "name": "stdout",
     "text": [
      "yay\n---------\nyay"
     ]
    }
   ],
   "source": [
    "# WAP to output the following string in reverse order\n",
    "\n",
    "string = input(\"Enter a string: \") \n",
    "\n",
    "# METHOD 1\n",
    "for index, _ in enumerate(string):\n",
    "    print(string[len(string) - 1 - index], end='')\n",
    "\n",
    "print('\\n---------')\n",
    "\n",
    "# METHOD 2\n",
    "for i in range(len(string) - 1, -1, -1):\n",
    "    print(string[i], end='')"
   ]
  },
  {
   "cell_type": "code",
   "execution_count": 49,
   "metadata": {},
   "outputs": [
    {
     "output_type": "stream",
     "name": "stdout",
     "text": [
      "HelloWorld\nHelloHelloHello\n"
     ]
    }
   ],
   "source": [
    "## Basic operations on strings\n",
    "\n",
    "print(\"Hello\" + \"World\")\n",
    "print(\"Hello\" * 3)"
   ]
  },
  {
   "source": [
    "## Membership operator"
   ],
   "cell_type": "markdown",
   "metadata": {}
  },
  {
   "cell_type": "code",
   "execution_count": 50,
   "metadata": {},
   "outputs": [
    {
     "output_type": "stream",
     "name": "stdout",
     "text": [
      "True\nTrue\nTrue\n"
     ]
    }
   ],
   "source": [
    "print(\"Hello\" in \"Hello World\") # 'Hello' is a substring of 'Hello World'\n",
    "print(\"\" in \"\")\n",
    "print(\"Hi\" not in \"\") # 'Hi' is not a substring of ''"
   ]
  },
  {
   "cell_type": "code",
   "execution_count": 51,
   "metadata": {},
   "outputs": [
    {
     "output_type": "stream",
     "name": "stdout",
     "text": [
      "False\n"
     ]
    }
   ],
   "source": [
    "# WAP to check if the integer 0 is present in a user input\n",
    "\n",
    "string = list(input())\n",
    "print(\"0\" in string)"
   ]
  },
  {
   "cell_type": "code",
   "execution_count": 5,
   "metadata": {},
   "outputs": [
    {
     "output_type": "stream",
     "name": "stdout",
     "text": [
      "o\n"
     ]
    },
    {
     "output_type": "execute_result",
     "data": {
      "text/plain": [
       "'ol'"
      ]
     },
     "metadata": {},
     "execution_count": 5
    }
   ],
   "source": [
    "s = \"Hello\"\n",
    "\n",
    "# the plural of \"index\" is \"indices\"\n",
    "\n",
    "s[4] # output: 'o'\n",
    "# s[5] # output: `IndexError`\n",
    "\n",
    "print(s[4:]) # output: 'o'\n",
    "print(s[5:2:-1]) # output: 'ol'"
   ]
  },
  {
   "cell_type": "code",
   "execution_count": 15,
   "metadata": {},
   "outputs": [
    {
     "output_type": "stream",
     "name": "stdout",
     "text": [
      "NO\n"
     ]
    }
   ],
   "source": [
    "# WAP to check if a user input is a palindrome. If the input string is 'car', then print 'INVALID INPUT', otherwise if it is a palindrome then print \"YES\", otherwise \"NO\".\n",
    "\n",
    "s = input()\n",
    "\n",
    "if s == 'car':\n",
    "    print(\"INVALID INPUT\")\n",
    "elif s == s[::-1]:\n",
    "    print(\"YES\")\n",
    "else:\n",
    "    print(\"NO\")"
   ]
  },
  {
   "source": [
    "## String methods\n",
    "\n",
    "Python has many built in methods for string manipulation."
   ],
   "cell_type": "markdown",
   "metadata": {}
  },
  {
   "cell_type": "code",
   "execution_count": 17,
   "metadata": {},
   "outputs": [
    {
     "output_type": "stream",
     "name": "stdout",
     "text": [
      "Hello world\n"
     ]
    }
   ],
   "source": [
    "### `capitalize` method\n",
    "\n",
    "# It will always convert the first character of the string into uppercase\n",
    "\n",
    "string = \"hello world\" # output: \"Hello world\"\n",
    "print(string.capitalize()) # \"hello world\".capitalize()\n"
   ]
  },
  {
   "cell_type": "code",
   "execution_count": 37,
   "metadata": {},
   "outputs": [
    {
     "output_type": "stream",
     "name": "stdout",
     "text": [
      "2\n3\n"
     ]
    }
   ],
   "source": [
    "### `count` method\n",
    "\n",
    "# It counts the number of occurrences of it's first argument, then starts at optional second argument, and ends at optional third argument.\n",
    "# <string>.count(substring[, start[, end])\n",
    "\n",
    "string = \"hello world\"\n",
    "string.count(\"l\") # output: 3\n",
    "\n",
    "string = '11 22 33 4442'\n",
    "print(string.count(\"2\", 0, -1)) # output: 2\n",
    "print(string.count(\"4\", 3, len(string))) # output: 3\n"
   ]
  },
  {
   "cell_type": "code",
   "execution_count": 42,
   "metadata": {},
   "outputs": [
    {
     "output_type": "execute_result",
     "data": {
      "text/plain": [
       "-1"
      ]
     },
     "metadata": {},
     "execution_count": 42
    }
   ],
   "source": [
    "### `find` method\n",
    "\n",
    "# Syntax is: <string>.find(substring[, start[, end]])\n",
    "\n",
    "# Tries to find the \"first\" occurrence of the substring in the given string. Returns -1 on failure.\n",
    "\n",
    "string = '11 22 33 4442'\n",
    "string.find(\"42\") # output: 11\n",
    "string.find(\"62\") # output: -1 # this will NOT raise an error"
   ]
  },
  {
   "cell_type": "code",
   "execution_count": null,
   "metadata": {},
   "outputs": [],
   "source": [
    "# WAP to find the number of in a given user input\n",
    "# 1) uppercase characters\n",
    "# 2) lowercase characters\n",
    "# 3) digits\n",
    "\n",
    "string = input(\"Enter a line: \")"
   ]
  },
  {
   "cell_type": "code",
   "execution_count": 6,
   "metadata": {},
   "outputs": [
    {
     "output_type": "stream",
     "name": "stdout",
     "text": [
      "The total number of uppercase alphabets in your line is 1\nThe total number of lowercase alphabets in your line is 8\nThe total number of digits in your line is 5\n"
     ]
    }
   ],
   "source": [
    "string = input(\"Enter a line.\")\n",
    "uppercase = 0\n",
    "lowercase = 0\n",
    "digits = 0\n",
    "for charecter in string:\n",
    "    if charecter.isupper():\n",
    "        uppercase += 1\n",
    "for letter in string:\n",
    "    if letter.islower():\n",
    "        lowercase += 1\n",
    "for digit in string:\n",
    "    if digit.isdigit():\n",
    "        digits += 1\n",
    "print(f\"The total number of uppercase alphabets in your line is {uppercase}\")\n",
    "print(f\"The total number of lowercase alphabets in your line is {lowercase}\")\n",
    "print(f\"The total number of digits in your line is {digits}\")\n"
   ]
  },
  {
   "cell_type": "code",
   "execution_count": 4,
   "metadata": {},
   "outputs": [
    {
     "output_type": "stream",
     "name": "stdout",
     "text": [
      "0\n7\n"
     ]
    }
   ],
   "source": [
    "### `count` method\n",
    "\n",
    "# It always returns the first occurrence of the substring\n",
    "\n",
    "# Syntax is: <string>.index(substring[, start[, end]])\n",
    "\n",
    "s = 'abracadabra'\n",
    "print(s.index('ab'))\n",
    "print(s.index('ab', 6))\n",
    "# print(s.index('ab', 6, 7)) # this will raise an error"
   ]
  },
  {
   "cell_type": "code",
   "execution_count": 9,
   "metadata": {},
   "outputs": [
    {
     "output_type": "stream",
     "name": "stdout",
     "text": [
      "True\nFalse\nFalse\nFalse\n"
     ]
    }
   ],
   "source": [
    "# `isalnum` method\n",
    "\n",
    "# It returns `True` if characters in the string are alphanumeric (aphabets and numbers) and there is atleast one one character in the string, `False` otherwise.\n",
    "\n",
    "print(\"123abc\".isalnum())\n",
    "print(\"!@#$\".isalnum())\n",
    "print(\"!@#$a\".isalnum())\n",
    "print(\" \".isalnum())"
   ]
  },
  {
   "cell_type": "code",
   "execution_count": 13,
   "metadata": {},
   "outputs": [
    {
     "output_type": "stream",
     "name": "stdout",
     "text": [
      "True\nFalse\nFalse\nFalse\nFalse\nFalse\n"
     ]
    }
   ],
   "source": [
    "# `isalpha` method\n",
    "\n",
    "# It returns `True` if characters in the string are aphabets and there is atleast one one character in the string, `False` otherwise.\n",
    "\n",
    "print(\"abc\".isalpha())\n",
    "print(\"123abc\".isalpha())\n",
    "print(\"!@#$\".isalpha())\n",
    "print(\"1234\".isalpha())\n",
    "print(\" \".isalpha())\n"
   ]
  },
  {
   "cell_type": "code",
   "execution_count": 14,
   "metadata": {},
   "outputs": [
    {
     "output_type": "stream",
     "name": "stdout",
     "text": [
      "False\nFalse\nFalse\nTrue\nFalse\n"
     ]
    }
   ],
   "source": [
    "# `isdigit` method\n",
    "\n",
    "print(\"abc\".isdigit())\n",
    "print(\"123abc\".isdigit())\n",
    "print(\"!@#$\".isdigit())\n",
    "print(\"1234\".isdigit())\n",
    "print(\" \".isdigit())"
   ]
  },
  {
   "cell_type": "code",
   "execution_count": 24,
   "metadata": {},
   "outputs": [
    {
     "output_type": "stream",
     "name": "stdout",
     "text": [
      "True\nTrue\nTrue\nTrue\nFalse\nFalse\n"
     ]
    }
   ],
   "source": [
    "# `islower` method, `isupper` method, `isspace` method\n",
    "\n",
    "print(\"HELLO\".isupper())\n",
    "print(\"hello\".islower())\n",
    "print(\" \".isspace())\n",
    "print(\" \\n\\t\".isspace())\n",
    "print(\"hello\".isspace())\n",
    "print(\" hello \".isspace())\n"
   ]
  },
  {
   "cell_type": "code",
   "execution_count": 9,
   "metadata": {},
   "outputs": [
    {
     "output_type": "stream",
     "name": "stdout",
     "text": [
      "hello\nHELLO\nHello-World\n"
     ]
    }
   ],
   "source": [
    "# `lower` method, `upper`, `title` method \n",
    "\n",
    "s = \"hello\"\n",
    "s.upper() # this will not transform the original string to uppercase\n",
    "print(s)\n",
    "o = s.upper() # you will instead have to store the return value of the method in a NEW variable and then use it\n",
    "print(o)\n",
    "\n",
    "string = \"hello-world\"\n",
    "o = string.title() # words separated by `-` are also tranformed to title case\n",
    "print(o)"
   ]
  },
  {
   "cell_type": "code",
   "execution_count": 3,
   "metadata": {},
   "outputs": [
    {
     "output_type": "stream",
     "name": "stdout",
     "text": [
      "123-Hello-123123\n123-Hello-\n"
     ]
    }
   ],
   "source": [
    "# `lstrip`, `rstrip`, `strip` methods\n",
    "\n",
    "# Remove a given substring from the sides of the original string. If not found, no error will \n",
    "# be raised and the original string will be returned as it was.\n",
    "\n",
    "string = \"123-Hello-123123\"\n",
    "a = string.strip() # default argument to these strip functions is a whitespace ' '\n",
    "print(a)\n",
    "\n",
    "a = string.rstrip('123') \n",
    "print(a) # all occurrences of `123` from the right are removed because strip stops only when it can't find the given substring"
   ]
  },
  {
   "cell_type": "code",
   "execution_count": 11,
   "metadata": {},
   "outputs": [
    {
     "output_type": "stream",
     "name": "stdout",
     "text": [
      "True\nTrue\nFalse\nFalse\nFalse\nTrue\n"
     ]
    }
   ],
   "source": [
    "# `startswith`, `endswith`, `istitle`\n",
    "\n",
    "# Check whether a string starts or ends with the given substring.\n",
    "\n",
    "string = \"abcd\"\n",
    "print(string.startswith('ab'))\n",
    "print(string.endswith('cd'))\n",
    "\n",
    "print(string.startswith('cd'))\n",
    "print(string.endswith('ab'))\n",
    "\n",
    "print(string.istitle())\n",
    "print(\"Hello-World\".istitle())"
   ]
  },
  {
   "cell_type": "code",
   "execution_count": 24,
   "metadata": {},
   "outputs": [
    {
     "output_type": "stream",
     "name": "stdout",
     "text": [
      "123--123123\nhello\n123-Hello-123123\n123-mouse-123123\n"
     ]
    }
   ],
   "source": [
    "# `replace` method\n",
    "\n",
    "# It returns a copy of the string with all occurrences of substring `old` replaced by `new` string.\n",
    "\n",
    "string = \"123-Hello-123123\"\n",
    "# output: 123--123123\n",
    "o = string.replace(\"Hello\", \"\")\n",
    "print(o)\n",
    "\n",
    "a = string.strip('123')\n",
    "o = string.replace(\"123\", \"\")\n",
    "\n",
    "print(\"hello\")\n",
    "assert a == o, \"This is the assertion error string\" # syntax: `assert <CONDITION>[, <MESSAGE>]\n",
    "\n",
    "o = string.replace(\"hello\", \"mouse\")\n",
    "print(o)\n",
    "o = string.replace(\"Hello\", \"mouse\")\n",
    "print(o)"
   ]
  },
  {
   "cell_type": "code",
   "execution_count": 31,
   "metadata": {},
   "outputs": [
    {
     "output_type": "stream",
     "name": "stdout",
     "text": [
      "H*e*l*l*o\nT***r***i***a***l\n1\ntrial$$hello\n123###hello\n"
     ]
    },
    {
     "output_type": "error",
     "ename": "TypeError",
     "evalue": "sequence item 1: expected str instance, complex found",
     "traceback": [
      "\u001b[0;31m---------------------------------------------------------------------------\u001b[0m",
      "\u001b[0;31mTypeError\u001b[0m                                 Traceback (most recent call last)",
      "\u001b[0;32m<ipython-input-31-551fb62b0a5f>\u001b[0m in \u001b[0;36m<module>\u001b[0;34m\u001b[0m\n\u001b[1;32m     19\u001b[0m \u001b[0;34m\u001b[0m\u001b[0m\n\u001b[1;32m     20\u001b[0m \u001b[0mprint\u001b[0m\u001b[0;34m(\u001b[0m\u001b[0;34m\"###\"\u001b[0m\u001b[0;34m.\u001b[0m\u001b[0mjoin\u001b[0m\u001b[0;34m(\u001b[0m\u001b[0;34m(\u001b[0m\u001b[0;34m\"123\"\u001b[0m\u001b[0;34m,\u001b[0m \u001b[0;34m\"hello\"\u001b[0m\u001b[0;34m)\u001b[0m\u001b[0;34m)\u001b[0m\u001b[0;34m)\u001b[0m\u001b[0;34m\u001b[0m\u001b[0;34m\u001b[0m\u001b[0m\n\u001b[0;32m---> 21\u001b[0;31m \u001b[0mprint\u001b[0m\u001b[0;34m(\u001b[0m\u001b[0;34m\"###\"\u001b[0m\u001b[0;34m.\u001b[0m\u001b[0mjoin\u001b[0m\u001b[0;34m(\u001b[0m\u001b[0;34m(\u001b[0m\u001b[0;34m\"123\"\u001b[0m\u001b[0;34m,\u001b[0m \u001b[0;36m1\u001b[0m \u001b[0;34m+\u001b[0m \u001b[0;36m3j\u001b[0m\u001b[0;34m,\u001b[0m\u001b[0;34m\"hello\"\u001b[0m\u001b[0;34m)\u001b[0m\u001b[0;34m)\u001b[0m\u001b[0;34m)\u001b[0m\u001b[0;34m\u001b[0m\u001b[0;34m\u001b[0m\u001b[0m\n\u001b[0m",
      "\u001b[0;31mTypeError\u001b[0m: sequence item 1: expected str instance, complex found"
     ]
    }
   ],
   "source": [
    "# `join` method \n",
    "\n",
    "# It joins a string or a character after each member of the string iterator, i.e., a string based sequence.\n",
    "\n",
    "# <string>.join(<string iterator>)\n",
    "\n",
    "# A string iterator is a collection of strings: Examples:\n",
    "    # \"1234567\"\n",
    "    # \"1\" it is a collection of strings (but only one element in the collection)\n",
    "    # [\"hello\", \"hi\", \"1234\"]\n",
    "    # (\"hello\", \"hi\", \"1234\")\n",
    "    # [\"hello\", \"hi\", \"1234\", 90, 1+3j] not a string iterator since all elements are not valid strings\n",
    "\n",
    "print(\"*\".join(\"Hello\"))\n",
    "print(\"***\".join(\"Trial\"))\n",
    "print(\"***\".join(\"1\"))\n",
    "\n",
    "print(\"$$\".join([\"trial\", \"hello\"]))\n",
    "\n",
    "print(\"###\".join((\"123\", \"hello\")))\n",
    "# print(\"###\".join((\"123\", 1 + 3j,\"hello\"))) # this will raise an error because we have a non-str data at index 1\n"
   ]
  },
  {
   "cell_type": "code",
   "execution_count": 37,
   "metadata": {},
   "outputs": [
    {
     "output_type": "stream",
     "name": "stdout",
     "text": [
      "['I', 'love', 'python']\n['I l', 've pyth', 'n']\n['I love ', '']\n['I love python']\n"
     ]
    }
   ],
   "source": [
    "# `split` method\n",
    "\n",
    "# It splits a string, based on given string or charcter and returns a list containing split strings\n",
    "# as members. The default argument is a whitespace. No errors are raised if split string is not found.\n",
    "\n",
    "# <string>.split(<string>)\n",
    "\n",
    "print(\"I love python\".split())\n",
    "\n",
    "print(\"I love python\".split(\"o\"))\n",
    "print(\"I love python\".split(\"python\"))\n",
    "print(\"I love python\".split(\"Python\")) # given substring is not present in the original string so a list with the original string with its only element is returned"
   ]
  }
 ]
}