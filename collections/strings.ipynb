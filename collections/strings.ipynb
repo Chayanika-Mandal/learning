{
 "metadata": {
  "language_info": {
   "codemirror_mode": {
    "name": "ipython",
    "version": 3
   },
   "file_extension": ".py",
   "mimetype": "text/x-python",
   "name": "python",
   "nbconvert_exporter": "python",
   "pygments_lexer": "ipython3",
   "version": "3.9.4"
  },
  "orig_nbformat": 2,
  "kernelspec": {
   "name": "python394jvsc74a57bd033dc6d49505b4536b6a128d9d7c879e1fa44477ad44947bbbe73093067fe6393",
   "display_name": "Python 3.9.4 64-bit"
  },
  "metadata": {
   "interpreter": {
    "hash": "33dc6d49505b4536b6a128d9d7c879e1fa44477ad44947bbbe73093067fe6393"
   }
  }
 },
 "nbformat": 4,
 "nbformat_minor": 2,
 "cells": [
  {
   "source": [
    "# Strings\n",
    "\n",
    "Python strings are characters that are enclosed in quotes of any type- single, double or triple."
   ],
   "cell_type": "markdown",
   "metadata": {}
  },
  {
   "cell_type": "code",
   "execution_count": 44,
   "metadata": {},
   "outputs": [],
   "source": [
    "string_single = 'HelloWorld'\n",
    "string_double = \"Hello\"\n",
    "string_triple_double = \"\"\"Hello\"\"\""
   ]
  },
  {
   "source": [
    "## Find the output"
   ],
   "cell_type": "markdown",
   "metadata": {}
  },
  {
   "cell_type": "code",
   "execution_count": 45,
   "metadata": {},
   "outputs": [
    {
     "output_type": "stream",
     "name": "stdout",
     "text": [
      "Hello\nWorld\n"
     ]
    }
   ],
   "source": [
    "# 1.\n",
    "string_triple_single = '''Hello\n",
    "World'''\n",
    "print(string_triple_single)"
   ]
  },
  {
   "cell_type": "code",
   "execution_count": 46,
   "metadata": {},
   "outputs": [
    {
     "output_type": "stream",
     "name": "stdout",
     "text": [
      "Hello\n    World\n"
     ]
    }
   ],
   "source": [
    "# 2.\n",
    "a, b = 10, 10\n",
    "if a == b:\n",
    "    string_triple_single = '''Hello\n",
    "    World'''\n",
    "    print(string_triple_single)"
   ]
  },
  {
   "source": [
    "## Traversing a string\n",
    "\n",
    "Iterating (or looping) over a string."
   ],
   "cell_type": "markdown",
   "metadata": {}
  },
  {
   "cell_type": "code",
   "execution_count": 47,
   "metadata": {},
   "outputs": [
    {
     "output_type": "stream",
     "name": "stdout",
     "text": [
      "H -+e -+l -+l -+o -+  -+W -+o -+r -+l -+d -+"
     ]
    }
   ],
   "source": [
    "word = \"Hello World\"\n",
    "\n",
    "for character in word:\n",
    "    print(character, '-', end='+')"
   ]
  },
  {
   "cell_type": "code",
   "execution_count": 48,
   "metadata": {},
   "outputs": [
    {
     "output_type": "stream",
     "name": "stdout",
     "text": [
      "yay\n---------\nyay"
     ]
    }
   ],
   "source": [
    "# WAP to output the following string in reverse order\n",
    "\n",
    "string = input(\"Enter a string: \") \n",
    "\n",
    "# METHOD 1\n",
    "for index, _ in enumerate(string):\n",
    "    print(string[len(string) - 1 - index], end='')\n",
    "\n",
    "print('\\n---------')\n",
    "\n",
    "# METHOD 2\n",
    "for i in range(len(string) - 1, -1, -1):\n",
    "    print(string[i], end='')"
   ]
  },
  {
   "cell_type": "code",
   "execution_count": 49,
   "metadata": {},
   "outputs": [
    {
     "output_type": "stream",
     "name": "stdout",
     "text": [
      "HelloWorld\nHelloHelloHello\n"
     ]
    }
   ],
   "source": [
    "## Basic operations on strings\n",
    "\n",
    "print(\"Hello\" + \"World\")\n",
    "print(\"Hello\" * 3)"
   ]
  },
  {
   "source": [
    "## Membership operator"
   ],
   "cell_type": "markdown",
   "metadata": {}
  },
  {
   "cell_type": "code",
   "execution_count": 50,
   "metadata": {},
   "outputs": [
    {
     "output_type": "stream",
     "name": "stdout",
     "text": [
      "True\nTrue\nTrue\n"
     ]
    }
   ],
   "source": [
    "print(\"Hello\" in \"Hello World\") # 'Hello' is a substring of 'Hello World'\n",
    "print(\"\" in \"\")\n",
    "print(\"Hi\" not in \"\") # 'Hi' is not a substring of ''"
   ]
  },
  {
   "cell_type": "code",
   "execution_count": 51,
   "metadata": {},
   "outputs": [
    {
     "output_type": "stream",
     "name": "stdout",
     "text": [
      "False\n"
     ]
    }
   ],
   "source": [
    "# WAP to check if the integer 0 is present in a user input\n",
    "\n",
    "string = list(input())\n",
    "print(\"0\" in string)"
   ]
  },
  {
   "cell_type": "code",
   "execution_count": 5,
   "metadata": {},
   "outputs": [
    {
     "output_type": "stream",
     "name": "stdout",
     "text": [
      "o\n"
     ]
    },
    {
     "output_type": "execute_result",
     "data": {
      "text/plain": [
       "'ol'"
      ]
     },
     "metadata": {},
     "execution_count": 5
    }
   ],
   "source": [
    "s = \"Hello\"\n",
    "\n",
    "# the plural of \"index\" is \"indices\"\n",
    "\n",
    "s[4] # output: 'o'\n",
    "# s[5] # output: `IndexError`\n",
    "\n",
    "print(s[4:]) # output: 'o'\n",
    "print(s[5:2:-1]) # output: 'ol'"
   ]
  },
  {
   "cell_type": "code",
   "execution_count": 15,
   "metadata": {},
   "outputs": [
    {
     "output_type": "stream",
     "name": "stdout",
     "text": [
      "NO\n"
     ]
    }
   ],
   "source": [
    "# WAP to check if a user input is a palindrome. If the input string is 'car', then print 'INVALID INPUT', otherwise if it is a palindrome then print \"YES\", otherwise \"NO\".\n",
    "\n",
    "s = input()\n",
    "\n",
    "if s == 'car':\n",
    "    print(\"INVALID INPUT\")\n",
    "elif s == s[::-1]:\n",
    "    print(\"YES\")\n",
    "else:\n",
    "    print(\"NO\")"
   ]
  },
  {
   "source": [
    "## String methods\n",
    "\n",
    "Python has many built in methods for string manipulation."
   ],
   "cell_type": "markdown",
   "metadata": {}
  },
  {
   "cell_type": "code",
   "execution_count": 17,
   "metadata": {},
   "outputs": [
    {
     "output_type": "stream",
     "name": "stdout",
     "text": [
      "Hello world\n"
     ]
    }
   ],
   "source": [
    "### `capitalize` method\n",
    "\n",
    "# It will always convert the first character of the string into uppercase\n",
    "\n",
    "string = \"hello world\" # output: \"Hello world\"\n",
    "print(string.capitalize()) # \"hello world\".capitalize()\n"
   ]
  },
  {
   "cell_type": "code",
   "execution_count": 37,
   "metadata": {},
   "outputs": [
    {
     "output_type": "stream",
     "name": "stdout",
     "text": [
      "2\n3\n"
     ]
    }
   ],
   "source": [
    "### `count` method\n",
    "\n",
    "# It counts the number of occurrences of it's first argument, then starts at optional second argument, and ends at optional third argument.\n",
    "# <string>.count(substring[, start[, end])\n",
    "\n",
    "string = \"hello world\"\n",
    "string.count(\"l\") # output: 3\n",
    "\n",
    "string = '11 22 33 4442'\n",
    "print(string.count(\"2\", 0, -1)) # output: 2\n",
    "print(string.count(\"4\", 3, len(string))) # output: 3\n"
   ]
  },
  {
   "cell_type": "code",
   "execution_count": 42,
   "metadata": {},
   "outputs": [
    {
     "output_type": "execute_result",
     "data": {
      "text/plain": [
       "-1"
      ]
     },
     "metadata": {},
     "execution_count": 42
    }
   ],
   "source": [
    "### `find` method\n",
    "\n",
    "# Tries to find the \"first\" occurrence of the substring in the given string. Returns -1 on failure.\n",
    "\n",
    "string = '11 22 33 4442'\n",
    "string.find(\"42\") # output: 11\n",
    "string.find(\"62\") # output: -1"
   ]
  },
  {
   "cell_type": "code",
   "execution_count": null,
   "metadata": {},
   "outputs": [],
   "source": [
    "# WAP to find the number of in a given user input\n",
    "# 1) uppercase characters\n",
    "# 2) lowercase characters\n",
    "# 3) digits\n",
    "\n",
    "string = input(\"Enter a line: \")"
   ]
  },
  {
   "cell_type": "code",
   "execution_count": 5,
   "metadata": {},
   "outputs": [
    {
     "output_type": "stream",
     "name": "stdout",
     "text": [
      "The total number of uppercase alphabets in your line is 0\nThe total number of lowercase alphabets in your line is 9\nThe total number of digits in your line is 0\n"
     ]
    }
   ],
   "source": [
    "string = input(\"Enter a line.\")\n",
    "n = 0\n",
    "m = 0\n",
    "p = 0\n",
    "for charecter in string:\n",
    "    if charecter.isupper():\n",
    "        n += 1\n",
    "for letter in string:\n",
    "    if letter.islower():\n",
    "        m += 1\n",
    "for digit in string:\n",
    "    if digit.isdigit():\n",
    "        p += 1\n",
    "print(f\"The total number of uppercase alphabets in your line is {n}\")\n",
    "print(f\"The total number of lowercase alphabets in your line is {m}\")\n",
    "print(f\"The total number of digits in your line is {p}\")\n"
   ]
  },
  {
   "cell_type": "code",
   "execution_count": null,
   "metadata": {},
   "outputs": [],
   "source": [
    "s = "
   ]
  }
 ]
}