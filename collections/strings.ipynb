{
 "metadata": {
  "language_info": {
   "codemirror_mode": {
    "name": "ipython",
    "version": 3
   },
   "file_extension": ".py",
   "mimetype": "text/x-python",
   "name": "python",
   "nbconvert_exporter": "python",
   "pygments_lexer": "ipython3",
   "version": "3.8.6"
  },
  "orig_nbformat": 2,
  "kernelspec": {
   "name": "python386jvsc74a57bd0f2ca095a0567e8622ec05de63e0d09c6bcf9b4a606e3f77aafc4f8c545f3475b",
   "display_name": "Python 3.8.6 64-bit ('.venv': venv)",
   "language": "python"
  }
 },
 "nbformat": 4,
 "nbformat_minor": 2,
 "cells": [
  {
   "source": [
    "# Strings\n",
    "\n",
    "Python strings are characters that are enclosed in quotes of any type- single, double or triple."
   ],
   "cell_type": "markdown",
   "metadata": {}
  },
  {
   "cell_type": "code",
   "execution_count": 44,
   "metadata": {},
   "outputs": [],
   "source": [
    "string_single = 'HelloWorld'\n",
    "string_double = \"Hello\"\n",
    "string_triple_double = \"\"\"Hello\"\"\""
   ]
  },
  {
   "source": [
    "## Find the output"
   ],
   "cell_type": "markdown",
   "metadata": {}
  },
  {
   "cell_type": "code",
   "execution_count": 45,
   "metadata": {},
   "outputs": [
    {
     "output_type": "stream",
     "name": "stdout",
     "text": [
      "Hello\nWorld\n"
     ]
    }
   ],
   "source": [
    "# 1.\n",
    "string_triple_single = '''Hello\n",
    "World'''\n",
    "print(string_triple_single)"
   ]
  },
  {
   "cell_type": "code",
   "execution_count": 46,
   "metadata": {},
   "outputs": [
    {
     "output_type": "stream",
     "name": "stdout",
     "text": [
      "Hello\n    World\n"
     ]
    }
   ],
   "source": [
    "# 2.\n",
    "a, b = 10, 10\n",
    "if a == b:\n",
    "    string_triple_single = '''Hello\n",
    "    World'''\n",
    "    print(string_triple_single)"
   ]
  },
  {
   "source": [
    "## Traversing a string\n",
    "\n",
    "Iterating (or looping) over a string."
   ],
   "cell_type": "markdown",
   "metadata": {}
  },
  {
   "cell_type": "code",
   "execution_count": 47,
   "metadata": {},
   "outputs": [
    {
     "output_type": "stream",
     "name": "stdout",
     "text": [
      "H -+e -+l -+l -+o -+  -+W -+o -+r -+l -+d -+"
     ]
    }
   ],
   "source": [
    "word = \"Hello World\"\n",
    "\n",
    "for character in word:\n",
    "    print(character, '-', end='+')"
   ]
  },
  {
   "cell_type": "code",
   "execution_count": 48,
   "metadata": {},
   "outputs": [
    {
     "output_type": "stream",
     "name": "stdout",
     "text": [
      "yay\n---------\nyay"
     ]
    }
   ],
   "source": [
    "# WAP to output the following string in reverse order\n",
    "\n",
    "string = input(\"Enter a string: \") \n",
    "\n",
    "# METHOD 1\n",
    "for index, _ in enumerate(string):\n",
    "    print(string[len(string) - 1 - index], end='')\n",
    "\n",
    "print('\\n---------')\n",
    "\n",
    "# METHOD 2\n",
    "for i in range(len(string) - 1, -1, -1):\n",
    "    print(string[i], end='')"
   ]
  },
  {
   "cell_type": "code",
   "execution_count": 49,
   "metadata": {},
   "outputs": [
    {
     "output_type": "stream",
     "name": "stdout",
     "text": [
      "HelloWorld\nHelloHelloHello\n"
     ]
    }
   ],
   "source": [
    "## Basic operations on strings\n",
    "\n",
    "print(\"Hello\" + \"World\")\n",
    "print(\"Hello\" * 3)"
   ]
  },
  {
   "source": [
    "## Membership operator"
   ],
   "cell_type": "markdown",
   "metadata": {}
  },
  {
   "cell_type": "code",
   "execution_count": 50,
   "metadata": {},
   "outputs": [
    {
     "output_type": "stream",
     "name": "stdout",
     "text": [
      "True\nTrue\nTrue\n"
     ]
    }
   ],
   "source": [
    "print(\"Hello\" in \"Hello World\") # 'Hello' is a substring of 'Hello World'\n",
    "print(\"\" in \"\")\n",
    "print(\"Hi\" not in \"\") # 'Hi' is not a substring of ''"
   ]
  },
  {
   "cell_type": "code",
   "execution_count": 51,
   "metadata": {},
   "outputs": [
    {
     "output_type": "stream",
     "name": "stdout",
     "text": [
      "False\n"
     ]
    }
   ],
   "source": [
    "# WAP to check if the integer 0 is present in a user input\n",
    "\n",
    "string = list(input())\n",
    "print(\"0\" in string)"
   ]
  },
  {
   "cell_type": "code",
   "execution_count": null,
   "metadata": {},
   "outputs": [],
   "source": []
  }
 ]
}