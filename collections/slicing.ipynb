{
 "metadata": {
  "language_info": {
   "codemirror_mode": {
    "name": "ipython",
    "version": 3
   },
   "file_extension": ".py",
   "mimetype": "text/x-python",
   "name": "python",
   "nbconvert_exporter": "python",
   "pygments_lexer": "ipython3",
   "version": "3.8.6"
  },
  "orig_nbformat": 2,
  "kernelspec": {
   "name": "python386jvsc74a57bd0f2ca095a0567e8622ec05de63e0d09c6bcf9b4a606e3f77aafc4f8c545f3475b",
   "display_name": "Python 3.8.6 64-bit ('.venv': venv)",
   "language": "python"
  }
 },
 "nbformat": 4,
 "nbformat_minor": 2,
 "cells": [
  {
   "source": [
    "# Slicing\n",
    "\n",
    "Slicing can be used to get a \"slice\", that is, a smaller collection from a bigger collection.\n",
    "\n",
    "Slicing can be done on most collections such as `list`, `string`, `tuple`, but not on `dict`, `set` etc."
   ],
   "cell_type": "markdown",
   "metadata": {}
  },
  {
   "source": [
    "## Syntax\n",
    "\n",
    "```python\n",
    "slice = any_collection[start_index:stop_index:step]\n",
    "```\n"
   ],
   "cell_type": "markdown",
   "metadata": {}
  },
  {
   "cell_type": "code",
   "execution_count": 16,
   "metadata": {},
   "outputs": [
    {
     "output_type": "stream",
     "name": "stdout",
     "text": [
      "[78, 'hello']\n[23, 78, 'hello', 90, 67]\n[23, 78, 'hello', 90, 67]\n[23, 78, 'hello', 90, 67]\n[23, 78]\n"
     ]
    }
   ],
   "source": [
    "my_list = [23, 78, \"hello\", 90, 67]\n",
    "\n",
    "print(my_list[1:3]) # [78, 'hello']\n",
    "print(my_list[0:len(my_list)]) # [23, 78, \"hello\", 90, 67]\n",
    "print(my_list[:]) # [23, 78, \"hello\", 90, 67]\n",
    "print(my_list[::]) # [23, 78, \"hello\", 90, 67]\n",
    "print(my_list[:2:]) # [23, 78]"
   ]
  },
  {
   "cell_type": "code",
   "execution_count": 18,
   "metadata": {},
   "outputs": [
    {
     "output_type": "stream",
     "name": "stdout",
     "text": [
      "(78, 'hello', 90, 67, 'tuple')\n(23, 78, 'hello', 90, 67, 'tuple')\n(23, 78, 'hello', 90, 67, 'tuple')\n(23, 78, 'hello', 90, 67, 'tuple')\n(23, 78)\n"
     ]
    }
   ],
   "source": [
    "my_tuple = (23, 78, \"hello\", 90, 67, 'tuple')\n",
    "\n",
    "print(my_tuple[1:3]) # (78, 'hello')\n",
    "print(my_tuple[0:len(my_tuple)]) # (23, 78, \"hello\", 90, 67)\n",
    "print(my_tuple[:]) # (23, 78, \"hello\", 90, 67)\n",
    "print(my_tuple[::]) # (23, 78, \"hello\", 90, 67)\n",
    "print(my_tuple[:2:]) # (23, 78)\n"
   ]
  }
 ]
}