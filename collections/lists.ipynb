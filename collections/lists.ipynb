{
 "metadata": {
  "language_info": {
   "codemirror_mode": {
    "name": "ipython",
    "version": 3
   },
   "file_extension": ".py",
   "mimetype": "text/x-python",
   "name": "python",
   "nbconvert_exporter": "python",
   "pygments_lexer": "ipython3",
   "version": "3.8.6"
  },
  "orig_nbformat": 2,
  "kernelspec": {
   "name": "python386jvsc74a57bd0916dbcbb3f70747c44a77c7bcd40155683ae19c65e1c03b4aa3499c5328201f1",
   "display_name": "Python 3.8.6 64-bit"
  },
  "metadata": {
   "interpreter": {
    "hash": "916dbcbb3f70747c44a77c7bcd40155683ae19c65e1c03b4aa3499c5328201f1"
   }
  }
 },
 "nbformat": 4,
 "nbformat_minor": 2,
 "cells": [
  {
   "source": [
    "## 1) Lists"
   ],
   "cell_type": "markdown",
   "metadata": {}
  },
  {
   "source": [
    "### Definition\n",
    "\n",
    "A list represets comma separated values of any datatypes between square brackets."
   ],
   "cell_type": "markdown",
   "metadata": {}
  },
  {
   "source": [
    "### Examples"
   ],
   "cell_type": "markdown",
   "metadata": {}
  },
  {
   "cell_type": "code",
   "execution_count": 1,
   "metadata": {},
   "outputs": [
    {
     "output_type": "stream",
     "name": "stdout",
     "text": [
      "my_list_5 = [[1, 2, 4, 90, 898], [1, 4.98, 'hello world', (1+9j)], [1, 78, 'string', [1, 8, 80, 5]], '7676']\n"
     ]
    }
   ],
   "source": [
    "my_list = [1, 2, 4, 90, 898]\n",
    "my_list_2 = [1, 4.98, \"hello world\", 1 + 9j]\n",
    "my_list_3 = [1, 78, \"string\", [1, 8, 80, 5]]\n",
    "\n",
    "my_list_5 = [my_list, my_list_2, my_list_3, \"7676\"]\n",
    "\n",
    "print(f\"{my_list_5 = }\")"
   ]
  },
  {
   "source": [],
   "cell_type": "markdown",
   "metadata": {}
  },
  {
   "source": [
    "## Acessing members of a list\n",
    "\n",
    "A list allows you to access its members (elements) using the indexing syntax"
   ],
   "cell_type": "markdown",
   "metadata": {}
  },
  {
   "cell_type": "code",
   "execution_count": 2,
   "metadata": {},
   "outputs": [],
   "source": [
    "my_list_6 = [\"string\", \"hello\", 1234]"
   ]
  },
  {
   "source": [
    "#### Access the first member of my_list_6"
   ],
   "cell_type": "markdown",
   "metadata": {}
  },
  {
   "cell_type": "code",
   "execution_count": 3,
   "metadata": {},
   "outputs": [
    {
     "output_type": "stream",
     "name": "stdout",
     "text": [
      "hello\n"
     ]
    }
   ],
   "source": [
    "print(my_list_6[1])"
   ]
  },
  {
   "source": [
    "#### Indexing\n",
    "\n",
    "In most programming languages, indexing starts from 0. This means that the first element of a list is actually the 0th element of that list, the second element of that list is the 1rst element of that list and so on.\n",
    "\n",
    "**_IMPORTANT_**: Indexing can only happen in certain datatypes -> strings, tuples, lists etc. Some other datatypes like integers, complex and floats do not support indexing."
   ],
   "cell_type": "markdown",
   "metadata": {}
  },
  {
   "cell_type": "code",
   "execution_count": 4,
   "metadata": {},
   "outputs": [
    {
     "output_type": "stream",
     "name": "stdout",
     "text": [
      "my_list_7[1][3] = (1+3j)\nmy_list_7[2][2][3] = 'i'\nmy_list_7[2][3][3] = 5\nmy_list_7[3][1] = '['\nmy_list_7[3][1][0] = '['\n"
     ]
    }
   ],
   "source": [
    "my_list_7 = [[1, 2, 4, 90, 898], [1, 4.98, 'hello world', 1 + 3j], [1, 78, 'string', [1, 8, 80, 5]], '7[6]76']\n",
    "\n",
    "print(f\"{my_list_7[1][3] = }\")\n",
    "print(f\"{my_list_7[2][2][3] = }\")\n",
    "print(f\"{my_list_7[2][3][3] = }\")\n",
    "\n",
    "print(f\"{my_list_7[3][1] = }\")\n",
    "print(f\"{my_list_7[3][1][0] = }\")"
   ]
  },
  {
   "cell_type": "code",
   "execution_count": 5,
   "metadata": {},
   "outputs": [
    {
     "output_type": "error",
     "ename": "IndexError",
     "evalue": "list index out of range",
     "traceback": [
      "\u001b[1;31m---------------------------------------------------------------------------\u001b[0m",
      "\u001b[1;31mIndexError\u001b[0m                                Traceback (most recent call last)",
      "\u001b[1;32m<ipython-input-5-ce4f8d140784>\u001b[0m in \u001b[0;36m<module>\u001b[1;34m\u001b[0m\n\u001b[1;32m----> 1\u001b[1;33m \u001b[0mprint\u001b[0m\u001b[1;33m(\u001b[0m\u001b[0mmy_list_6\u001b[0m\u001b[1;33m[\u001b[0m\u001b[1;36m100\u001b[0m\u001b[1;33m]\u001b[0m\u001b[1;33m)\u001b[0m\u001b[1;33m\u001b[0m\u001b[1;33m\u001b[0m\u001b[0m\n\u001b[0m",
      "\u001b[1;31mIndexError\u001b[0m: list index out of range"
     ]
    }
   ],
   "source": [
    "print(my_list_6[100])"
   ]
  },
  {
   "source": [
    "**_IMPORTANT_**: If we try to access a member of a list that does not exists, we get an `IndexError`."
   ],
   "cell_type": "markdown",
   "metadata": {}
  },
  {
   "cell_type": "code",
   "execution_count": 7,
   "metadata": {},
   "outputs": [
    {
     "output_type": "error",
     "ename": "IndexError",
     "evalue": "list index out of range",
     "traceback": [
      "\u001b[1;31m---------------------------------------------------------------------------\u001b[0m",
      "\u001b[1;31mIndexError\u001b[0m                                Traceback (most recent call last)",
      "\u001b[1;32m<ipython-input-7-e5b88f251565>\u001b[0m in \u001b[0;36m<module>\u001b[1;34m\u001b[0m\n\u001b[1;32m----> 1\u001b[1;33m \u001b[0mprint\u001b[0m\u001b[1;33m(\u001b[0m\u001b[0mmy_list_6\u001b[0m\u001b[1;33m[\u001b[0m\u001b[1;33m-\u001b[0m\u001b[1;36m100\u001b[0m\u001b[1;33m]\u001b[0m\u001b[1;33m)\u001b[0m\u001b[1;33m\u001b[0m\u001b[1;33m\u001b[0m\u001b[0m\n\u001b[0m",
      "\u001b[1;31mIndexError\u001b[0m: list index out of range"
     ]
    }
   ],
   "source": [
    "print(my_list_6[-100])"
   ]
  },
  {
   "source": [
    "### Accessing the members of a collection using negative indexing\n",
    "\n",
    "To access the members of a collection from its ending, we can either use its real index or we can use the negative indexing syntax."
   ],
   "cell_type": "markdown",
   "metadata": {}
  },
  {
   "cell_type": "code",
   "execution_count": 6,
   "metadata": {},
   "outputs": [
    {
     "output_type": "stream",
     "name": "stdout",
     "text": [
      "my_list_8[4] = 5\nmy_list_8[-1] = 5\nmy_list_8[3] = 4\nmy_list_8[-2] = 4\nmy_list_8[0] = 1\nmy_list_8[-5] = 1\n"
     ]
    }
   ],
   "source": [
    "my_list_8 = [1, 2, 3, 4, 5]\n",
    "\n",
    "# Real indexing syntax\n",
    "print(f\"{my_list_8[4] = }\")\n",
    "\n",
    "# Negative indexing syntax\n",
    "print(f\"{my_list_8[-1] = }\")\n",
    "\n",
    "# Second last element using real indexing\n",
    "print(f\"{my_list_8[3] = }\")\n",
    "\n",
    "# Second last element of a list using negative indexing\n",
    "print(f\"{my_list_8[-2] = }\")\n",
    "\n",
    "# First element using real indexing\n",
    "print(f\"{my_list_8[0] = }\")\n",
    "\n",
    "# First element of a list using negative indexing\n",
    "print(f\"{my_list_8[-5] = }\")"
   ]
  },
  {
   "source": [
    "### Finding length of a datatypes\n",
    "\n",
    "The length of most datatypes can be easily found using the `len` function."
   ],
   "cell_type": "markdown",
   "metadata": {}
  },
  {
   "cell_type": "code",
   "execution_count": 33,
   "metadata": {},
   "outputs": [
    {
     "output_type": "stream",
     "name": "stdout",
     "text": [
      "5\n"
     ]
    }
   ],
   "source": [
    "my_list_8 = [1, 2, 3, 4, 5]\n",
    "\n",
    "# Find the length of `my_list_8`\n",
    "print(len(my_list_8)) # expected output: 5"
   ]
  },
  {
   "source": [
    "### Adding elements end to lists\n",
    "\n",
    "There are various ways to add elements to the end of lists."
   ],
   "cell_type": "markdown",
   "metadata": {}
  },
  {
   "source": [
    "#### 1) Concatenaton (addition) operator"
   ],
   "cell_type": "markdown",
   "metadata": {}
  },
  {
   "cell_type": "code",
   "execution_count": 21,
   "metadata": {},
   "outputs": [
    {
     "output_type": "stream",
     "name": "stdout",
     "text": [
      "my_list_10 = [1, 2, 3, 5, 123]\nmy_list_10 = [1, 2, 3, 5, 123, 'Hello world']\nmy_list_10 = [1, 2, 3, 5, 123, 'Hello world', 'Delhi']\nmy_list_10 = [1, 2, 3, 5, 123, 'Hello world', 'Delhi', 56]\nmy_list_10 = [1, 2, 3, 5, 123, 'Hello world', 'Delhi', 56, [123, [567, 'hi'], 2345]]\n"
     ]
    }
   ],
   "source": [
    "my_list_10 = [1, 2, 3 , 5]\n",
    "\n",
    "my_list_10 = my_list_10 + [123] \n",
    "print(f\"{my_list_10 = }\")\n",
    "\n",
    "my_list_10 = my_list_10 + [\"Hello world\"]\n",
    "print(f\"{my_list_10 = }\")\n",
    "\n",
    "my_list_10 += [\"Delhi\"] # same as writing my_list_10 = my_list_10 + [\"Delhi\"]\n",
    "print(f\"{my_list_10 = }\")\n",
    "\n",
    "my_list_10 += [56]\n",
    "print(f\"{my_list_10 = }\")\n",
    "\n",
    "my_list_10 += [ [123, [567, \"hi\"], 2345] ]\n",
    "print(f\"{my_list_10 = }\") # nested list"
   ]
  },
  {
   "source": [
    "#### 2) Using inbuilt list methods"
   ],
   "cell_type": "markdown",
   "metadata": {}
  },
  {
   "cell_type": "code",
   "execution_count": 27,
   "metadata": {},
   "outputs": [
    {
     "output_type": "stream",
     "name": "stdout",
     "text": [
      "my_list_11 = [1, 'hello', 2, 123]\nmy_list_11 = [1, 'hello', 2, 123, '123456']\nmy_list_11 = [1, 'hello', 2, 123, '123456', [123, [567, 'hi'], 2345]]\nmy_list_11 = [1, 'hello', 2, 123, '123456', [123, [567, 'hi'], 2345], (12, 'hello', (1+90j))]\nmy_list_11[5][1][0] = 567\n"
     ]
    }
   ],
   "source": [
    "my_list_11 = [1, \"hello\", 2]\n",
    "\n",
    "my_list_11.append(123) # append is a method that is present on the list class \n",
    "print(f\"{my_list_11 = }\")\n",
    "\n",
    "my_list_11.append(\"123456\")\n",
    "print(f\"{my_list_11 = }\")\n",
    "\n",
    "my_list_11.append([123, [567, \"hi\"], 2345]) # appending a list (resulting in a nested list)\n",
    "print(f\"{my_list_11 = }\")\n",
    "\n",
    "my_list_11.append((12, \"hello\", 1 + 90j)) # appending a tuple\n",
    "print(f\"{my_list_11 = }\")\n",
    "\n",
    "# print 567 by accessing the list\n",
    "print(f\"{my_list_11[5][1][0] = }\")"
   ]
  },
  {
   "source": [
    "### Adding elements starting of lists\n",
    "\n",
    "There are various ways to add elements to the end of lists."
   ],
   "cell_type": "markdown",
   "metadata": {}
  },
  {
   "source": [
    "#### 1) Using concatenation operator"
   ],
   "cell_type": "markdown",
   "metadata": {}
  },
  {
   "cell_type": "code",
   "execution_count": 35,
   "metadata": {},
   "outputs": [
    {
     "output_type": "stream",
     "name": "stdout",
     "text": [
      "my_list_12 = [12, 1, 2, 3, 5, 'Hello']\n"
     ]
    }
   ],
   "source": [
    "my_list_12 = [1, 2, 3, 5]\n",
    "\n",
    "my_list_12 = [12] + my_list_12\n",
    "print(f\"{my_list_12 = }\")"
   ]
  },
  {
   "source": [
    "#### 2) Using inbuilt list methods"
   ],
   "cell_type": "markdown",
   "metadata": {}
  },
  {
   "cell_type": "code",
   "execution_count": 38,
   "metadata": {},
   "outputs": [
    {
     "output_type": "stream",
     "name": "stdout",
     "text": [
      "my_list_12 = [12, 1, 2, 3, 5]\nmy_list_12 = [12, 'Hello there', 1, 2, 3, 5]\n"
     ]
    }
   ],
   "source": [
    "my_list_12 = [1, 2, 3, 5]\n",
    "\n",
    "my_list_12.insert(0, 12)\n",
    "print(f\"{my_list_12 = }\")\n",
    "\n",
    "my_list_12.insert(1, \"Hello there\")\n",
    "print(f\"{my_list_12 = }\")"
   ]
  },
  {
   "source": [
    "##### Insert a variable to the end of a list using the `insert` method"
   ],
   "cell_type": "markdown",
   "metadata": {}
  },
  {
   "cell_type": "code",
   "execution_count": 3,
   "metadata": {},
   "outputs": [
    {
     "output_type": "stream",
     "name": "stdout",
     "text": [
      "my_list_12 = [1, 2, 3, 5, 'hello world']\n"
     ]
    }
   ],
   "source": [
    "my_list_12 = [1, 2, 3, 8, 5]\n",
    "variable = \"hello world\"\n",
    "my_list_12.insert(len(my_list_12), variable)\n",
    "print(f\"{my_list_12 = }\")"
   ]
  },
  {
   "source": [
    "### Finding the index of an element\n",
    "\n",
    "There are various ways to find the index of an element in a list."
   ],
   "cell_type": "markdown",
   "metadata": {}
  },
  {
   "source": [
    "#### 1) Using the inbuild index method"
   ],
   "cell_type": "markdown",
   "metadata": {}
  },
  {
   "cell_type": "code",
   "execution_count": 6,
   "metadata": {},
   "outputs": [
    {
     "output_type": "stream",
     "name": "stdout",
     "text": [
      "index = 1\n"
     ]
    }
   ],
   "source": [
    "my_list_13 = [1, 89, 2, 3, 8, 89, 89, 5]\n",
    "\n",
    "# index of `89` is 4 in `my_list_13`\n",
    "index = my_list_13.index(89)\n",
    "\n",
    "print(f\"{index = }\")"
   ]
  },
  {
   "source": [
    "**_NOTE_**: The `index` method always returns the first occurrence of the element in the list"
   ],
   "cell_type": "markdown",
   "metadata": {}
  },
  {
   "source": [
    "#### If the element does not exist in the list, a `ValueError` will be raised"
   ],
   "cell_type": "markdown",
   "metadata": {}
  },
  {
   "cell_type": "code",
   "execution_count": 8,
   "metadata": {},
   "outputs": [
    {
     "output_type": "error",
     "ename": "ValueError",
     "evalue": "90 is not in list",
     "traceback": [
      "\u001b[0;31m---------------------------------------------------------------------------\u001b[0m",
      "\u001b[0;31mValueError\u001b[0m                                Traceback (most recent call last)",
      "\u001b[0;32m<ipython-input-8-e708ab86c1ad>\u001b[0m in \u001b[0;36m<module>\u001b[0;34m\u001b[0m\n\u001b[1;32m      1\u001b[0m \u001b[0mmy_list_13\u001b[0m \u001b[0;34m=\u001b[0m \u001b[0;34m[\u001b[0m\u001b[0;36m1\u001b[0m\u001b[0;34m,\u001b[0m \u001b[0;36m89\u001b[0m\u001b[0;34m,\u001b[0m \u001b[0;36m2\u001b[0m\u001b[0;34m,\u001b[0m \u001b[0;36m3\u001b[0m\u001b[0;34m,\u001b[0m \u001b[0;36m8\u001b[0m\u001b[0;34m,\u001b[0m \u001b[0;36m89\u001b[0m\u001b[0;34m,\u001b[0m \u001b[0;36m89\u001b[0m\u001b[0;34m,\u001b[0m \u001b[0;36m5\u001b[0m\u001b[0;34m]\u001b[0m\u001b[0;34m\u001b[0m\u001b[0;34m\u001b[0m\u001b[0m\n\u001b[1;32m      2\u001b[0m \u001b[0;34m\u001b[0m\u001b[0m\n\u001b[0;32m----> 3\u001b[0;31m \u001b[0mindex\u001b[0m \u001b[0;34m=\u001b[0m \u001b[0mmy_list_13\u001b[0m\u001b[0;34m.\u001b[0m\u001b[0mindex\u001b[0m\u001b[0;34m(\u001b[0m\u001b[0;36m90\u001b[0m\u001b[0;34m)\u001b[0m\u001b[0;34m\u001b[0m\u001b[0;34m\u001b[0m\u001b[0m\n\u001b[0m",
      "\u001b[0;31mValueError\u001b[0m: 90 is not in list"
     ]
    }
   ],
   "source": [
    "my_list_13 = [1, 89, 2, 3, 8, 89, 89, 5]\n",
    "\n",
    "index = my_list_13.index(90)"
   ]
  },
  {
   "source": [
    "#### 2) Using loops"
   ],
   "cell_type": "markdown",
   "metadata": {}
  },
  {
   "cell_type": "code",
   "execution_count": 14,
   "metadata": {},
   "outputs": [
    {
     "output_type": "stream",
     "name": "stdout",
     "text": [
      "index = 1\n"
     ]
    }
   ],
   "source": [
    "my_list_13 = [1, 89, 2, 3, 8, 89, 89, 5]\n",
    "to_find = 89\n",
    "\n",
    "for index, element in enumerate(my_list_13):\n",
    "    if element == to_find:\n",
    "        print(f\"{index = }\")\n",
    "        break"
   ]
  },
  {
   "source": [
    "#### Reversing a list using the `reverse` inbuilt method"
   ],
   "cell_type": "markdown",
   "metadata": {}
  },
  {
   "cell_type": "code",
   "execution_count": 19,
   "metadata": {},
   "outputs": [
    {
     "output_type": "stream",
     "name": "stdout",
     "text": [
      "my_list_14 = None\n"
     ]
    }
   ],
   "source": [
    "my_list_14 = [1, 89, 78, \"hello world\", 5]\n",
    "my_list_14.reverse()\n",
    "# my_list_14 = my_list_14.reverse() # this would not work since the return value of reverse is `None`\n",
    "print(f\"{my_list_14 = }\")"
   ]
  },
  {
   "source": [
    "#### Sorting a list using the `reverse` inbuilt method"
   ],
   "cell_type": "markdown",
   "metadata": {}
  },
  {
   "cell_type": "code",
   "execution_count": 31,
   "metadata": {},
   "outputs": [
    {
     "output_type": "stream",
     "name": "stdout",
     "text": [
      "Ascending order: my_list_15 = [1, 5, 78, 89]\nDescending order: my_list_15 = [89, 78, 5, 1]\n"
     ]
    }
   ],
   "source": [
    "my_list_15 = [1, 89, 78, 5]\n",
    "my_list_15.sort()\n",
    "print(f\"Ascending order: {my_list_15 = }\")\n",
    "my_list_15.sort(reverse=True)\n",
    "print(f\"Descending order: {my_list_15 = }\")"
   ]
  },
  {
   "cell_type": "code",
   "execution_count": 24,
   "metadata": {},
   "outputs": [
    {
     "output_type": "error",
     "ename": "TypeError",
     "evalue": "'<' not supported between instances of 'str' and 'int'",
     "traceback": [
      "\u001b[0;31m---------------------------------------------------------------------------\u001b[0m",
      "\u001b[0;31mTypeError\u001b[0m                                 Traceback (most recent call last)",
      "\u001b[0;32m<ipython-input-24-97317ea51bba>\u001b[0m in \u001b[0;36m<module>\u001b[0;34m\u001b[0m\n\u001b[1;32m      1\u001b[0m \u001b[0mmy_list_16\u001b[0m \u001b[0;34m=\u001b[0m \u001b[0;34m[\u001b[0m\u001b[0;36m1\u001b[0m\u001b[0;34m,\u001b[0m \u001b[0;36m78\u001b[0m\u001b[0;34m,\u001b[0m \u001b[0;36m5\u001b[0m\u001b[0;34m,\u001b[0m \u001b[0;34m\"hello world\"\u001b[0m\u001b[0;34m]\u001b[0m\u001b[0;34m\u001b[0m\u001b[0;34m\u001b[0m\u001b[0m\n\u001b[0;32m----> 2\u001b[0;31m \u001b[0mmy_list_16\u001b[0m\u001b[0;34m.\u001b[0m\u001b[0msort\u001b[0m\u001b[0;34m(\u001b[0m\u001b[0;34m)\u001b[0m\u001b[0;34m\u001b[0m\u001b[0;34m\u001b[0m\u001b[0m\n\u001b[0m\u001b[1;32m      3\u001b[0m \u001b[0mprint\u001b[0m\u001b[0;34m(\u001b[0m\u001b[0;34mf\"Ascending order: {my_list_16 = }\"\u001b[0m\u001b[0;34m)\u001b[0m\u001b[0;34m\u001b[0m\u001b[0;34m\u001b[0m\u001b[0m\n",
      "\u001b[0;31mTypeError\u001b[0m: '<' not supported between instances of 'str' and 'int'"
     ]
    }
   ],
   "source": [
    "my_list_16 = [1, 78, 5, \"hello world\"]\n",
    "# my_list_16.sort() # this raises an error since comparison between a string and an integer is not allowed"
   ]
  },
  {
   "cell_type": "code",
   "execution_count": 27,
   "metadata": {},
   "outputs": [
    {
     "output_type": "stream",
     "name": "stdout",
     "text": [
      "Alphabetical order: my_list_17 = ['Ab', 'hello world', 'jupyter', 'mouse']\nReverse alphabetical order: my_list_17 = ['mouse', 'jupyter', 'hello world', 'Ab']\n"
     ]
    }
   ],
   "source": [
    "my_list_17 = [\"Ab\", \"mouse\", \"jupyter\", \"hello world\"]\n",
    "my_list_17.sort()\n",
    "print(f\"Alphabetical order: {my_list_17 = }\")\n",
    "\n",
    "my_list_17.sort(reverse=True)\n",
    "print(f\"Reverse alphabetical order: {my_list_17 = }\")"
   ]
  },
  {
   "source": [
    "#### Removing an element from a list"
   ],
   "cell_type": "markdown",
   "metadata": {}
  },
  {
   "source": [
    "#### 1) Using the `remove` inbuilt method"
   ],
   "cell_type": "markdown",
   "metadata": {}
  },
  {
   "cell_type": "code",
   "execution_count": 37,
   "metadata": {},
   "outputs": [
    {
     "output_type": "stream",
     "name": "stdout",
     "text": [
      "my_list_18 = [1, 78, 5]\nError is: list.remove(x): x not in list\n"
     ]
    }
   ],
   "source": [
    "my_list_18 = [1, 89, 78, 5]\n",
    "my_list_18.remove(89)\n",
    "print(f\"{my_list_18 = }\")\n",
    "\n",
    "# Trying to remove an element which does not exists in the list raises a `ValueError`\n",
    "try:\n",
    "    my_list_18.remove(89)\n",
    "except ValueError as e:\n",
    "    print(\"Error is:\", e)"
   ]
  },
  {
   "source": [
    "#### 2) Using the `del` inbuilt keyword"
   ],
   "cell_type": "markdown",
   "metadata": {}
  },
  {
   "cell_type": "code",
   "execution_count": 41,
   "metadata": {},
   "outputs": [
    {
     "output_type": "stream",
     "name": "stdout",
     "text": [
      "my_list_19 = [1, 78, 5]\nError is: list assignment index out of range\n"
     ]
    }
   ],
   "source": [
    "my_list_19 = [1, 89, 78, 5]\n",
    "del my_list_19[1]\n",
    "print(f\"{my_list_19 = }\")\n",
    "\n",
    "try:\n",
    "    # `throw` an error\n",
    "    del my_list_19[100]\n",
    "except IndexError as e:\n",
    "    # `catch` the error thrown above\n",
    "    print(\"Error is:\", e)"
   ]
  },
  {
   "source": [
    "#### 3) Using the `pop` inbuilt method"
   ],
   "cell_type": "markdown",
   "metadata": {}
  },
  {
   "cell_type": "code",
   "execution_count": 55,
   "metadata": {},
   "outputs": [
    {
     "output_type": "stream",
     "name": "stdout",
     "text": [
      "my_list_19 = ['hello', 'hi', 89, 78, 5]\npopped = 'hello'\n"
     ]
    }
   ],
   "source": [
    "my_list_19 = [\"hello\", \"hi\", 89, 78, 5, 76]\n",
    "my_list_19.pop() # without arguments: it will remove the last element of the list\n",
    "print(f\"{my_list_19 = }\")\n",
    "\n",
    "popped = my_list_19.pop(0) # with arguments: it will remove the element at the index passed to the method\n",
    "print(f\"{my_list_19 = }\")\n",
    "\n",
    "# pop method returns the value that was removed from the list\n",
    "print(f\"{popped = }\")"
   ]
  },
  {
   "source": [
    "#### Removing all elements of a list using `clear` inbuilt method"
   ],
   "cell_type": "markdown",
   "metadata": {}
  },
  {
   "cell_type": "code",
   "execution_count": 42,
   "metadata": {},
   "outputs": [
    {
     "output_type": "stream",
     "name": "stdout",
     "text": [
      "my_list_20 = []\n"
     ]
    }
   ],
   "source": [
    "my_list_20 = [1, 89, 78, 5]\n",
    "my_list_20.clear()\n",
    "print(f\"{my_list_20 = }\") # empty list"
   ]
  },
  {
   "source": [
    "#### Count the number of occurrences of an element in a list using the `count` inbuilt method"
   ],
   "cell_type": "markdown",
   "metadata": {}
  },
  {
   "cell_type": "code",
   "execution_count": 46,
   "metadata": {},
   "outputs": [
    {
     "output_type": "stream",
     "name": "stdout",
     "text": [
      "number_of_ones = 3\n"
     ]
    }
   ],
   "source": [
    "my_list_21 = [1, 89, 78, 5, 1, 1, 4]\n",
    "number_of_ones = my_list_21.count(1)\n",
    "print(f\"{number_of_ones = }\")"
   ]
  },
  {
   "source": [
    "### Extending an list/array"
   ],
   "cell_type": "markdown",
   "metadata": {}
  },
  {
   "source": [
    "#### 1) Using the concatenation operator"
   ],
   "cell_type": "markdown",
   "metadata": {}
  },
  {
   "cell_type": "code",
   "execution_count": 57,
   "metadata": {},
   "outputs": [
    {
     "output_type": "stream",
     "name": "stdout",
     "text": [
      "list_1 = [1, 2, 3, 'hello', 'world']\n"
     ]
    }
   ],
   "source": [
    "list_1 = [1, 2, 3]\n",
    "list_2 = [\"hello\", \"world\"]\n",
    "list_1 = list_1 + list_2\n",
    "\n",
    "print(f\"{list_1 = }\")"
   ]
  },
  {
   "source": [
    "#### 2) Using the inbuilt `extend` method (more preferable)\n",
    "\n",
    "This is more preferable method because it saves memory."
   ],
   "cell_type": "markdown",
   "metadata": {}
  },
  {
   "cell_type": "code",
   "execution_count": 59,
   "metadata": {},
   "outputs": [
    {
     "output_type": "stream",
     "name": "stdout",
     "text": [
      "list_1 = [1, 2, 3, 'hello', 'world']\n"
     ]
    }
   ],
   "source": [
    "list_1 = [1, 2, 3]\n",
    "list_2 = [\"hello\", \"world\"]\n",
    "list_1.extend(list_2)\n",
    "\n",
    "print(f\"{list_1 = }\")"
   ]
  }
 ]
}